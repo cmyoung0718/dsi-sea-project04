{
 "cells": [
  {
   "cell_type": "markdown",
   "metadata": {
    "focus": false,
    "id": "69b9a648-bcc7-490d-9f9b-ea244d156bd6"
   },
   "source": [
    "# Web Scraping for Indeed.com & Predicting Salaries"
   ]
  },
  {
   "cell_type": "markdown",
   "metadata": {
    "focus": false,
    "id": "34681254-c802-462f-829d-8894d0772d08"
   },
   "source": [
    "In this project, we will practice two major skills: collecting data by scraping a website and then building a binary predictor with Logistic Regression.\n",
    "\n",
    "We are going to collect salary information on data science jobs in a variety of markets. Then using the location, title and summary of the job we will attempt to predict the salary of the job. For job posting sites, this would be extraordinarily useful. While most listings DO NOT come with salary information (as you will see in this exercise), being to able extrapolate or predict the expected salaries from other listings can help guide negotiations.\n",
    "\n",
    "Normally, we could use regression for this task; however, we will convert this problem into classification and use Logistic Regression.\n",
    "\n",
    "- Question: Why would we want this to be a classification problem?\n",
    "- Answer: While more precision may be better, there is a fair amount of natural variance in job salaries - predicting a range be may be useful.\n",
    "\n",
    "Therefore, the first part of the assignment will be focused on scraping Indeed.com. In the second, we'll focus on using listings with salary information to build a model and predict additional salaries."
   ]
  },
  {
   "cell_type": "markdown",
   "metadata": {
    "focus": false,
    "id": "a948d79c-5527-4c0d-ab23-f5d43ce72056"
   },
   "source": [
    "### Scraping job listings from Indeed.com"
   ]
  },
  {
   "cell_type": "markdown",
   "metadata": {
    "focus": true,
    "id": "7203e0c9-e437-4802-a6ad-7dc464f94436"
   },
   "source": [
    "We will be scraping job listings from Indeed.com using BeautifulSoup. Luckily, Indeed.com is a simple text page where we can easily find relevant entries.\n",
    "\n",
    "First, look at the source of an Indeed.com page: (http://www.indeed.com/jobs?q=data+scientist+%2420%2C000&l=New+York&start=10\")\n",
    "\n",
    "Notice, each job listing is underneath a `div` tag with a class name of `result`. We can use BeautifulSoup to extract those. "
   ]
  },
  {
   "cell_type": "markdown",
   "metadata": {
    "focus": false,
    "id": "9732c901-ae26-4160-8376-42e22dd327df"
   },
   "source": [
    "#### Setup a request (using `requests`) to the URL below. Use BeautifulSoup to parse the page and extract all results (HINT: Look for div tags with class name result)\n",
    "\n",
    "The URL here has many query parameters\n",
    "\n",
    "- `q` for the job search\n",
    "- This is followed by \"+20,000\" to return results with salaries (or expected salaries >$20,000)\n",
    "- `l` for a location \n",
    "- `start` for what result number to start on"
   ]
  },
  {
   "cell_type": "code",
   "execution_count": 300,
   "metadata": {
    "collapsed": false,
    "focus": false,
    "id": "e915023e-6b0d-4982-af2a-b1e0355f4927"
   },
   "outputs": [],
   "source": [
    "URL = \"http://www.indeed.com/jobs?q=data+scientist+%2420%2C000&l=New+York&start=10\""
   ]
  },
  {
   "cell_type": "code",
   "execution_count": 301,
   "metadata": {
    "collapsed": false,
    "focus": false,
    "id": "2efefc73-064a-482d-b3b5-ddf5508cb4ec"
   },
   "outputs": [],
   "source": [
    "import urllib2\n",
    "import requests\n",
    "import bs4\n",
    "from bs4 import BeautifulSoup\n",
    "\n",
    "soup = BeautifulSoup(urllib2.urlopen(URL).read())"
   ]
  },
  {
   "cell_type": "code",
   "execution_count": 302,
   "metadata": {
    "collapsed": false,
    "focus": false,
    "id": "2c6752c4-7704-4c94-8bc0-6f13d2d0d570"
   },
   "outputs": [
    {
     "name": "stdout",
     "output_type": "stream",
     "text": [
      "+++++++++++ 0 \n",
      "<div class=\" row result\" data-jk=\"03da19f3a2a1f3d7\" data-tn-component=\"organicJob\" id=\"p_03da19f3a2a1f3d7\" itemscope=\"\" itemtype=\"http://schema.org/JobPosting\">\n",
      "<h2 class=\"jobtitle\" id=\"jl_03da19f3a2a1f3d7\">\n",
      "<a class=\"turnstileLink\" data-tn-element=\"jobTitle\" href=\"/rc/clk?jk=03da19f3a2a1f3d7&amp;fccid=f7029f63fe5c906e\" itemprop=\"title\" onclick=\"setRefineByCookie(['salest']); return rclk(this,jobmap[0],true,0);\" onmousedown=\"return rclk(this,jobmap[0],0);\" rel=\"nofollow\" target=\"_blank\" title=\"Data Scientist\"><b>Data</b> <b>Scientist</b></a>\n",
      "</h2>\n",
      "<span class=\"company\" itemprop=\"hiringOrganization\" itemtype=\"http://schema.org/Organization\">\n",
      "<span itemprop=\"name\">\n",
      "<a href=\"/cmp/Verizon\" onmousedown=\"this.href = appendParamsOnce(this.href, 'from=SERP&amp;campaignid=serp-linkcompanyname&amp;fromjk=03da19f3a2a1f3d7&amp;jcid=f7029f63fe5c906e')\" target=\"_blank\">\n",
      "        Verizon</a></span>\n",
      "</span>\n",
      "\n",
      " - <a class=\"turnstileLink slNoUnderline \" data-tn-element=\"reviewStars\" data-tn-variant=\"cmplinktst2\" href=\"/cmp/Verizon/reviews\" onmousedown=\"this.href = appendParamsOnce(this.href, '?campaignid=cmplinktst2&amp;from=SERP&amp;jt=Data+Scientist&amp;fromjk=03da19f3a2a1f3d7&amp;jcid=f7029f63fe5c906e');\" target=\"_blank\" title=\"Verizon reviews\">\n",
      "<span class=\"ratings\" style=\"height: 11px; line-height: 11px; background-image: url(/images/cmp/star_2_sm@2x.png); background-size: 12px 22px;width: 60px;\"><span class=\"rating\" style=\"height: 11px; line-height: 11px; background-image: url(/images/cmp/star_2_sm@2x.png); background-size: 12px 22px;background-position: 0 11px; width: 44.4px;\"><!-- --></span></span><span class=\"slNoUnderline\">11,196 reviews</span></a>\n",
      " - <span itemprop=\"jobLocation\" itemscope=\"\" itemtype=\"http://schema.org/Place\"><span class=\"location\" itemprop=\"address\" itemscope=\"\" itemtype=\"http://schema.org/Postaladdress\"><span itemprop=\"addressLocality\">New York, NY 10010 <span style=\"font-size: smaller\">(Gramercy area)</span></span></span></span>\n",
      " <a class=\"more_loc\" href=\"/jobs?q=data+scientist+%2420%2C000&amp;l=New+York&amp;rbt=Data+Scientist&amp;rbc=Verizon&amp;jtid=1872a3288ede048a&amp;jcid=f7029f63fe5c906e&amp;grp=tcl\" onmousedown=\"ptk('addlloc');\" rel=\"nofollow\">+1 location</a><table border=\"0\" cellpadding=\"0\" cellspacing=\"0\">\n",
      "<tr>\n",
      "<td class=\"snip\">\n",
      "<div>\n",
      "<span class=\"summary\" itemprop=\"description\">\n",
      "You will be responsible for research and discovery to guide the <b>Data</b> Science Team in new areas of opportunity and focus including leveraging Verizon’s big <b>data</b>...</span>\n",
      "</div>\n",
      "<div class=\"result-link-bar-container\">\n",
      "<div class=\"result-link-bar\"><span class=\"date\">5 days ago</span> <span class=\"tt_set\" id=\"tt_set_0\"> - <span class=\"savelink2\" id=\"savelink2_03da19f3a2a1f3d7\"><a class=\"sl resultLink save-job-link\" href=\"#\" id=\"sj_03da19f3a2a1f3d7\" onclick=\"changeJobState('03da19f3a2a1f3d7', 'save', 'linkbar', false);return false;\" title=\"Save this job to my.indeed\">save job</a></span> - <a class=\"sl resultLink more-link \" href=\"#\" id=\"tog_0\" onclick=\"toggleMoreLinks('03da19f3a2a1f3d7'); return false;\">more...</a></span><div class=\"edit_note_content\" id=\"editsaved2_03da19f3a2a1f3d7\" style=\"display:none;\"></div><script>window['result_03da19f3a2a1f3d7'] = {\"showSource\": false, \"source\": \"Verizon\", \"loggedIn\": false, \"showMyJobsLinks\": true,\"undoAction\": \"unsave\",\"relativeJobAge\": \"5 days ago\",\"jobKey\": \"03da19f3a2a1f3d7\", \"myIndeedAvailable\": true, \"tellAFriendEnabled\": false, \"showMoreActionsLink\": true, \"resultNumber\": 0, \"jobStateChangedToSaved\": false, \"searchState\": \"q=data scientist $20,000&amp;l=New+York&amp;start=10\", \"basicPermaLink\": \"http://www.indeed.com\", \"saveJobFailed\": false, \"removeJobFailed\": false, \"requestPending\": false, \"notesEnabled\": true, \"currentPage\" : \"serp\", \"sponsored\" : false,\"reportJobButtonEnabled\": false, \"showMyJobsHired\": false};</script></div></div>\n",
      "<div class=\"tab-container\">\n",
      "<div class=\"more-links-container result-tab\" id=\"tt_display_0\" style=\"display:none;\"><a class=\"close-link closeLink\" href=\"#\" onclick=\"toggleMoreLinks('03da19f3a2a1f3d7'); return false;\" title=\"Close\"></a><div class=\"more_actions\" id=\"more_0\"><ul><li><span class=\"mat\">View all <a href=\"/q-Verizon-l-New-York,-NY-jobs.html\" rel=\"nofollow\">Verizon jobs in New York, NY</a> - <a href=\"/l-New-York,-NY-jobs.html\">New York jobs</a></span></li><li><span class=\"mat\">Salary Search: <a href=\"/salary?q1=Data+Scientist&amp;l1=New+York%2C+NY\" onmousedown=\"this.href = appendParamsOnce(this.href, '');\">Data Scientist salaries in New York, NY</a></span></li><li><span class=\"mat\">Learn more about working at <a href=\"/cmp/Verizon\" onmousedown=\"this.href = appendParamsOnce(this.href, '?fromjk=03da19f3a2a1f3d7&amp;from=serp-more&amp;campaignid=serp-more&amp;jcid=f7029f63fe5c906e');\">Verizon</a></span></li><li><span class=\"mat\">Related forums: <a href=\"/forum/cmp/Verizon.html\">Verizon</a> - <a href=\"/forum/loc/New-York-New-York.html\">New York, New York</a></span></li></ul></div></div><div class=\"dya-container result-tab\"></div>\n",
      "<div class=\"tellafriend-container result-tab email_job_content\"></div>\n",
      "<div class=\"sign-in-container result-tab\"></div>\n",
      "<div class=\"notes-container result-tab\"></div>\n",
      "</div>\n",
      "</td>\n",
      "</tr>\n",
      "</table>\n",
      "</div>\n",
      "+++++++++++ 1 \n",
      "<div class=\" row result\" data-jk=\"c4b7d85073f2d273\" data-tn-component=\"organicJob\" id=\"p_c4b7d85073f2d273\" itemscope=\"\" itemtype=\"http://schema.org/JobPosting\">\n",
      "<h2 class=\"jobtitle\" id=\"jl_c4b7d85073f2d273\">\n",
      "<a class=\"turnstileLink\" data-tn-element=\"jobTitle\" href=\"/rc/clk?jk=c4b7d85073f2d273&amp;fccid=1d8e31f3f2dffe07\" itemprop=\"title\" onclick=\"setRefineByCookie(['salest']); return rclk(this,jobmap[1],true,0);\" onmousedown=\"return rclk(this,jobmap[1],0);\" rel=\"nofollow\" target=\"_blank\" title=\"Data Scientist\"><b>Data</b> <b>Scientist</b></a>\n",
      "</h2>\n",
      "<span class=\"company\" itemprop=\"hiringOrganization\" itemtype=\"http://schema.org/Organization\">\n",
      "<span itemprop=\"name\">\n",
      "    DataKind</span>\n",
      "</span>\n",
      "\n",
      " - <span itemprop=\"jobLocation\" itemscope=\"\" itemtype=\"http://schema.org/Place\"><span class=\"location\" itemprop=\"address\" itemscope=\"\" itemtype=\"http://schema.org/Postaladdress\"><span itemprop=\"addressLocality\">New York, NY</span></span></span>\n",
      "<table border=\"0\" cellpadding=\"0\" cellspacing=\"0\">\n",
      "<tr>\n",
      "<td class=\"snip\">\n",
      "<div>\n",
      "<span class=\"summary\" itemprop=\"description\">\n",
      "A mid-career <b>data</b> <b>scientist</b> - You have a successful track record leading and executing a broad range of <b>data</b> science projects spanning the entire project...</span>\n",
      "</div>\n",
      "<div class=\"result-link-bar-container\">\n",
      "<div class=\"result-link-bar\"><span class=\"result-link-source\">Omidyar Networks </span>- <span class=\"date\">4 days ago</span> <span class=\"tt_set\" id=\"tt_set_1\"> - <span class=\"savelink2\" id=\"savelink2_c4b7d85073f2d273\"><a class=\"sl resultLink save-job-link\" href=\"#\" id=\"sj_c4b7d85073f2d273\" onclick=\"changeJobState('c4b7d85073f2d273', 'save', 'linkbar', false);return false;\" title=\"Save this job to my.indeed\">save job</a></span> - <a class=\"sl resultLink more-link \" href=\"#\" id=\"tog_1\" onclick=\"toggleMoreLinks('c4b7d85073f2d273'); return false;\">more...</a></span><div class=\"edit_note_content\" id=\"editsaved2_c4b7d85073f2d273\" style=\"display:none;\"></div><script>window['result_c4b7d85073f2d273'] = {\"showSource\": true, \"source\": \"Omidyar Networks\", \"loggedIn\": false, \"showMyJobsLinks\": true,\"undoAction\": \"unsave\",\"relativeJobAge\": \"4 days ago\",\"jobKey\": \"c4b7d85073f2d273\", \"myIndeedAvailable\": true, \"tellAFriendEnabled\": false, \"showMoreActionsLink\": true, \"resultNumber\": 1, \"jobStateChangedToSaved\": false, \"searchState\": \"q=data scientist $20,000&amp;l=New+York&amp;start=10\", \"basicPermaLink\": \"http://www.indeed.com\", \"saveJobFailed\": false, \"removeJobFailed\": false, \"requestPending\": false, \"notesEnabled\": true, \"currentPage\" : \"serp\", \"sponsored\" : false,\"reportJobButtonEnabled\": false, \"showMyJobsHired\": false};</script></div></div>\n",
      "<div class=\"tab-container\">\n",
      "<div class=\"more-links-container result-tab\" id=\"tt_display_1\" style=\"display:none;\"><a class=\"close-link closeLink\" href=\"#\" onclick=\"toggleMoreLinks('c4b7d85073f2d273'); return false;\" title=\"Close\"></a><div class=\"more_actions\" id=\"more_1\"><ul><li><span class=\"mat\">View all <a href=\"/q-Datakind-l-New-York,-NY-jobs.html\" rel=\"nofollow\">DataKind jobs in New York, NY</a> - <a href=\"/l-New-York,-NY-jobs.html\">New York jobs</a></span></li><li><span class=\"mat\">Salary Search: <a href=\"/salary?q1=Data+Scientist&amp;l1=New+York%2C+NY\" onmousedown=\"this.href = appendParamsOnce(this.href, '');\">Data Scientist salaries in New York, NY</a></span></li><li><span class=\"mat\">Related forums: <a href=\"/forum/cmp/Datakind.html\">DataKind</a> - <a href=\"/forum/loc/New-York-New-York.html\">New York, New York</a></span></li></ul></div></div><div class=\"dya-container result-tab\"></div>\n",
      "<div class=\"tellafriend-container result-tab email_job_content\"></div>\n",
      "<div class=\"sign-in-container result-tab\"></div>\n",
      "<div class=\"notes-container result-tab\"></div>\n",
      "</div>\n",
      "</td>\n",
      "</tr>\n",
      "</table>\n",
      "</div>\n",
      "+++++++++++ 2 \n",
      "<div class=\" row result\" data-jk=\"a64c5e5d843a9977\" data-tn-component=\"organicJob\" id=\"p_a64c5e5d843a9977\" itemscope=\"\" itemtype=\"http://schema.org/JobPosting\">\n",
      "<h2 class=\"jobtitle\" id=\"jl_a64c5e5d843a9977\">\n",
      "<a class=\"turnstileLink\" data-tn-element=\"jobTitle\" href=\"/rc/clk?jk=a64c5e5d843a9977&amp;fccid=b393ad8be88fd16e\" itemprop=\"title\" onclick=\"setRefineByCookie(['salest']); return rclk(this,jobmap[2],true,0);\" onmousedown=\"return rclk(this,jobmap[2],0);\" rel=\"nofollow\" target=\"_blank\" title=\"Chief Data Scientist\">Chief <b>Data</b> <b>Scientist</b></a>\n",
      "</h2>\n",
      "<span class=\"company\" itemprop=\"hiringOrganization\" itemtype=\"http://schema.org/Organization\">\n",
      "<span itemprop=\"name\">\n",
      "    Medivo Inc.</span>\n",
      "</span>\n",
      "\n",
      " - <span itemprop=\"jobLocation\" itemscope=\"\" itemtype=\"http://schema.org/Place\"><span class=\"location\" itemprop=\"address\" itemscope=\"\" itemtype=\"http://schema.org/Postaladdress\"><span itemprop=\"addressLocality\">New York, NY 10004 <span style=\"font-size: smaller\">(Financial District area)</span></span></span></span>\n",
      "<table border=\"0\" cellpadding=\"0\" cellspacing=\"0\">\n",
      "<tr>\n",
      "<td class=\"snip\">\n",
      "<div>\n",
      "<span class=\"summary\" itemprop=\"description\">\n",
      "Medivo is looking for a Chief <b>Data</b> <b>Scientist</b> who can lead growing onshore and offshore teams. Experience in recruiting, managing, training, and retaining a team...</span>\n",
      "</div>\n",
      "<div class=\"result-link-bar-container\">\n",
      "<div class=\"result-link-bar\"><span class=\"date\">6 days ago</span> <span class=\"tt_set\" id=\"tt_set_2\"> - <span class=\"savelink2\" id=\"savelink2_a64c5e5d843a9977\"><a class=\"sl resultLink save-job-link\" href=\"#\" id=\"sj_a64c5e5d843a9977\" onclick=\"changeJobState('a64c5e5d843a9977', 'save', 'linkbar', false);return false;\" title=\"Save this job to my.indeed\">save job</a></span> - <a class=\"sl resultLink more-link \" href=\"#\" id=\"tog_2\" onclick=\"toggleMoreLinks('a64c5e5d843a9977'); return false;\">more...</a></span><div class=\"edit_note_content\" id=\"editsaved2_a64c5e5d843a9977\" style=\"display:none;\"></div><script>window['result_a64c5e5d843a9977'] = {\"showSource\": false, \"source\": \"Medivo Inc.\", \"loggedIn\": false, \"showMyJobsLinks\": true,\"undoAction\": \"unsave\",\"relativeJobAge\": \"6 days ago\",\"jobKey\": \"a64c5e5d843a9977\", \"myIndeedAvailable\": true, \"tellAFriendEnabled\": false, \"showMoreActionsLink\": true, \"resultNumber\": 2, \"jobStateChangedToSaved\": false, \"searchState\": \"q=data scientist $20,000&amp;l=New+York&amp;start=10\", \"basicPermaLink\": \"http://www.indeed.com\", \"saveJobFailed\": false, \"removeJobFailed\": false, \"requestPending\": false, \"notesEnabled\": true, \"currentPage\" : \"serp\", \"sponsored\" : false,\"reportJobButtonEnabled\": false, \"showMyJobsHired\": false};</script></div></div>\n",
      "<div class=\"tab-container\">\n",
      "<div class=\"more-links-container result-tab\" id=\"tt_display_2\" style=\"display:none;\"><a class=\"close-link closeLink\" href=\"#\" onclick=\"toggleMoreLinks('a64c5e5d843a9977'); return false;\" title=\"Close\"></a><div class=\"more_actions\" id=\"more_2\"><ul><li><span class=\"mat\">View all <a href=\"/jobs?q=Medivo+Inc&amp;l=New+York,+NY&amp;nc=jasx\" rel=\"nofollow\">Medivo Inc. jobs in New York, NY</a> - <a href=\"/l-New-York,-NY-jobs.html\">New York jobs</a></span></li><li><span class=\"mat\">Salary Search: <a href=\"/salary?q1=Chief+Data+Scientist&amp;l1=New+York%2C+NY\" onmousedown=\"this.href = appendParamsOnce(this.href, '');\">Chief Data Scientist salaries in New York, NY</a></span></li><li><span class=\"mat\">Related forums:  - <a href=\"/forum/loc/New-York-New-York.html\">New York, New York</a></span></li></ul></div></div><div class=\"dya-container result-tab\"></div>\n",
      "<div class=\"tellafriend-container result-tab email_job_content\"></div>\n",
      "<div class=\"sign-in-container result-tab\"></div>\n",
      "<div class=\"notes-container result-tab\"></div>\n",
      "</div>\n",
      "</td>\n",
      "</tr>\n",
      "</table>\n",
      "</div>\n",
      "+++++++++++ 3 \n",
      "<div class=\" row result\" data-jk=\"c7b7cdbaa69831d9\" data-tn-component=\"organicJob\" id=\"p_c7b7cdbaa69831d9\" itemscope=\"\" itemtype=\"http://schema.org/JobPosting\">\n",
      "<h2 class=\"jobtitle\" id=\"jl_c7b7cdbaa69831d9\">\n",
      "<a class=\"turnstileLink\" data-tn-element=\"jobTitle\" href=\"/rc/clk?jk=c7b7cdbaa69831d9&amp;fccid=9044e8bd254c73d6\" itemprop=\"title\" onclick=\"setRefineByCookie(['salest']); return rclk(this,jobmap[3],true,0);\" onmousedown=\"return rclk(this,jobmap[3],0);\" rel=\"nofollow\" target=\"_blank\" title=\"Security Data Scientist\">Security <b>Data</b> <b>Scientist</b></a>\n",
      "</h2>\n",
      "<span class=\"company\" itemprop=\"hiringOrganization\" itemtype=\"http://schema.org/Organization\">\n",
      "<span itemprop=\"name\">\n",
      "    Rockstar New York</span>\n",
      "</span>\n",
      "\n",
      " - <span itemprop=\"jobLocation\" itemscope=\"\" itemtype=\"http://schema.org/Place\"><span class=\"location\" itemprop=\"address\" itemscope=\"\" itemtype=\"http://schema.org/Postaladdress\"><span itemprop=\"addressLocality\">New York, NY</span></span></span>\n",
      "<table border=\"0\" cellpadding=\"0\" cellspacing=\"0\">\n",
      "<tr>\n",
      "<td class=\"snip\">\n",
      "<div>\n",
      "<span class=\"summary\" itemprop=\"description\">\n",
      "The successful candidate will both define <b>data</b> which should be captured in future states and analyze existing <b>data</b> in order to isolate patterns of bad activity....</span>\n",
      "</div>\n",
      "<div class=\"result-link-bar-container\">\n",
      "<div class=\"result-link-bar\"><span class=\"date\">1 day ago</span> <span class=\"tt_set\" id=\"tt_set_3\"> - <span class=\"savelink2\" id=\"savelink2_c7b7cdbaa69831d9\"><a class=\"sl resultLink save-job-link\" href=\"#\" id=\"sj_c7b7cdbaa69831d9\" onclick=\"changeJobState('c7b7cdbaa69831d9', 'save', 'linkbar', false);return false;\" title=\"Save this job to my.indeed\">save job</a></span> - <a class=\"sl resultLink more-link \" href=\"#\" id=\"tog_3\" onclick=\"toggleMoreLinks('c7b7cdbaa69831d9'); return false;\">more...</a></span><div class=\"edit_note_content\" id=\"editsaved2_c7b7cdbaa69831d9\" style=\"display:none;\"></div><script>window['result_c7b7cdbaa69831d9'] = {\"showSource\": false, \"source\": \"Rockstar New York\", \"loggedIn\": false, \"showMyJobsLinks\": true,\"undoAction\": \"unsave\",\"relativeJobAge\": \"1 day ago\",\"jobKey\": \"c7b7cdbaa69831d9\", \"myIndeedAvailable\": true, \"tellAFriendEnabled\": false, \"showMoreActionsLink\": true, \"resultNumber\": 3, \"jobStateChangedToSaved\": false, \"searchState\": \"q=data scientist $20,000&amp;l=New+York&amp;start=10\", \"basicPermaLink\": \"http://www.indeed.com\", \"saveJobFailed\": false, \"removeJobFailed\": false, \"requestPending\": false, \"notesEnabled\": true, \"currentPage\" : \"serp\", \"sponsored\" : false,\"reportJobButtonEnabled\": false, \"showMyJobsHired\": false};</script></div></div>\n",
      "<div class=\"tab-container\">\n",
      "<div class=\"more-links-container result-tab\" id=\"tt_display_3\" style=\"display:none;\"><a class=\"close-link closeLink\" href=\"#\" onclick=\"toggleMoreLinks('c7b7cdbaa69831d9'); return false;\" title=\"Close\"></a><div class=\"more_actions\" id=\"more_3\"><ul><li><span class=\"mat\">View all <a href=\"/q-Rockstar-New-York-l-New-York,-NY-jobs.html\" rel=\"nofollow\">Rockstar New York jobs in New York, NY</a> - <a href=\"/l-New-York,-NY-jobs.html\">New York jobs</a></span></li><li><span class=\"mat\">Salary Search: <a href=\"/salary?q1=Security+Data+Scientist&amp;l1=New+York%2C+NY\" onmousedown=\"this.href = appendParamsOnce(this.href, '');\">Security Data Scientist salaries in New York, NY</a></span></li><li><span class=\"mat\">Related forums: <a href=\"/forum/cmp/Rockstar-New-York.html\">Rockstar New York</a> - <a href=\"/forum/loc/New-York-New-York.html\">New York, New York</a></span></li></ul></div></div><div class=\"dya-container result-tab\"></div>\n",
      "<div class=\"tellafriend-container result-tab email_job_content\"></div>\n",
      "<div class=\"sign-in-container result-tab\"></div>\n",
      "<div class=\"notes-container result-tab\"></div>\n",
      "</div>\n",
      "</td>\n",
      "</tr>\n",
      "</table>\n",
      "</div>\n",
      "+++++++++++ 4 \n",
      "<div class=\" row result\" data-jk=\"b911e44d901700f2\" data-tn-component=\"organicJob\" id=\"p_b911e44d901700f2\" itemscope=\"\" itemtype=\"http://schema.org/JobPosting\">\n",
      "<h2 class=\"jobtitle\" id=\"jl_b911e44d901700f2\">\n",
      "<a class=\"turnstileLink\" data-tn-element=\"jobTitle\" href=\"/rc/clk?jk=b911e44d901700f2&amp;fccid=309f5dd3a87072dc\" itemprop=\"title\" onclick=\"setRefineByCookie(['salest']); return rclk(this,jobmap[4],true,0);\" onmousedown=\"return rclk(this,jobmap[4],0);\" rel=\"nofollow\" target=\"_blank\" title=\"Data Scientist\"><b>Data</b> <b>Scientist</b></a>\n",
      "</h2>\n",
      "<span class=\"company\" itemprop=\"hiringOrganization\" itemtype=\"http://schema.org/Organization\">\n",
      "<span itemprop=\"name\">\n",
      "    Cognical, Inc.</span>\n",
      "</span>\n",
      "\n",
      " - <span itemprop=\"jobLocation\" itemscope=\"\" itemtype=\"http://schema.org/Place\"><span class=\"location\" itemprop=\"address\" itemscope=\"\" itemtype=\"http://schema.org/Postaladdress\"><span itemprop=\"addressLocality\">New York, NY 10001 <span style=\"font-size: smaller\">(Chelsea area)</span></span></span></span>\n",
      "<table border=\"0\" cellpadding=\"0\" cellspacing=\"0\">\n",
      "<tr>\n",
      "<td class=\"snip\">\n",
      "<div>\n",
      "<span class=\"summary\" itemprop=\"description\">\n",
      "Minimum of 5 years of work experience as a <b>Data</b> <b>Scientist</b>. We are currently looking for a talented, creative and experienced <b>Data</b> <b>Scientist</b> to help us build our...</span>\n",
      "</div>\n",
      "<div class=\"result-link-bar-container\">\n",
      "<div class=\"result-link-bar\"><span class=\"date\">5 days ago</span> <span class=\"tt_set\" id=\"tt_set_4\"> - <span class=\"savelink2\" id=\"savelink2_b911e44d901700f2\"><a class=\"sl resultLink save-job-link\" href=\"#\" id=\"sj_b911e44d901700f2\" onclick=\"changeJobState('b911e44d901700f2', 'save', 'linkbar', false);return false;\" title=\"Save this job to my.indeed\">save job</a></span> - <a class=\"sl resultLink more-link \" href=\"#\" id=\"tog_4\" onclick=\"toggleMoreLinks('b911e44d901700f2'); return false;\">more...</a></span><div class=\"edit_note_content\" id=\"editsaved2_b911e44d901700f2\" style=\"display:none;\"></div><script>window['result_b911e44d901700f2'] = {\"showSource\": false, \"source\": \"Cognical, Inc.\", \"loggedIn\": false, \"showMyJobsLinks\": true,\"undoAction\": \"unsave\",\"relativeJobAge\": \"5 days ago\",\"jobKey\": \"b911e44d901700f2\", \"myIndeedAvailable\": true, \"tellAFriendEnabled\": false, \"showMoreActionsLink\": true, \"resultNumber\": 4, \"jobStateChangedToSaved\": false, \"searchState\": \"q=data scientist $20,000&amp;l=New+York&amp;start=10\", \"basicPermaLink\": \"http://www.indeed.com\", \"saveJobFailed\": false, \"removeJobFailed\": false, \"requestPending\": false, \"notesEnabled\": true, \"currentPage\" : \"serp\", \"sponsored\" : false,\"reportJobButtonEnabled\": false, \"showMyJobsHired\": false};</script></div></div>\n",
      "<div class=\"tab-container\">\n",
      "<div class=\"more-links-container result-tab\" id=\"tt_display_4\" style=\"display:none;\"><a class=\"close-link closeLink\" href=\"#\" onclick=\"toggleMoreLinks('b911e44d901700f2'); return false;\" title=\"Close\"></a><div class=\"more_actions\" id=\"more_4\"><ul><li><span class=\"mat\">View all <a href=\"/jobs?q=Cognical,+Inc&amp;l=New+York,+NY&amp;nc=jasx\" rel=\"nofollow\">Cognical, Inc. jobs in New York, NY</a> - <a href=\"/l-New-York,-NY-jobs.html\">New York jobs</a></span></li><li><span class=\"mat\">Salary Search: <a href=\"/salary?q1=Data+Scientist&amp;l1=New+York%2C+NY\" onmousedown=\"this.href = appendParamsOnce(this.href, '');\">Data Scientist salaries in New York, NY</a></span></li><li><span class=\"mat\">Learn more about working at <a href=\"/cmp/Cognical,-Inc.\" onmousedown=\"this.href = appendParamsOnce(this.href, '?fromjk=b911e44d901700f2&amp;from=serp-more&amp;campaignid=serp-more&amp;jcid=6d55b7889010e1f0');\">Cognical, Inc.</a></span></li><li><span class=\"mat\">Related forums:  - <a href=\"/forum/loc/New-York-New-York.html\">New York, New York</a></span></li></ul></div></div><div class=\"dya-container result-tab\"></div>\n",
      "<div class=\"tellafriend-container result-tab email_job_content\"></div>\n",
      "<div class=\"sign-in-container result-tab\"></div>\n",
      "<div class=\"notes-container result-tab\"></div>\n",
      "</div>\n",
      "</td>\n",
      "</tr>\n",
      "</table>\n",
      "</div>\n",
      "+++++++++++ 5 \n",
      "<div class=\" row result\" data-jk=\"f5e03cefdb936a0f\" data-tn-component=\"organicJob\" id=\"p_f5e03cefdb936a0f\" itemscope=\"\" itemtype=\"http://schema.org/JobPosting\">\n",
      "<h2 class=\"jobtitle\" id=\"jl_f5e03cefdb936a0f\">\n",
      "<a class=\"turnstileLink\" data-tn-element=\"jobTitle\" href=\"/rc/clk?jk=f5e03cefdb936a0f&amp;fccid=086cb533b5438773\" itemprop=\"title\" onclick=\"setRefineByCookie(['salest']); return rclk(this,jobmap[5],true,0);\" onmousedown=\"return rclk(this,jobmap[5],0);\" rel=\"nofollow\" target=\"_blank\" title=\"Data Scientist\"><b>Data</b> <b>Scientist</b></a>\n",
      "</h2>\n",
      "<span class=\"company\" itemprop=\"hiringOrganization\" itemtype=\"http://schema.org/Organization\">\n",
      "<span itemprop=\"name\">\n",
      "    Komodo Health</span>\n",
      "</span>\n",
      "\n",
      " - <span itemprop=\"jobLocation\" itemscope=\"\" itemtype=\"http://schema.org/Place\"><span class=\"location\" itemprop=\"address\" itemscope=\"\" itemtype=\"http://schema.org/Postaladdress\"><span itemprop=\"addressLocality\">New York, NY</span></span></span>\n",
      "<table border=\"0\" cellpadding=\"0\" cellspacing=\"0\">\n",
      "<tr>\n",
      "<td class=\"snip\">\n",
      "<div>\n",
      "<span class=\"summary\" itemprop=\"description\">\n",
      "Experience working with proprietary secondary <b>data</b> including medical / pharmacy claims, prescription <b>data</b>, sales <b>data</b>, and longitudinal patient-level <b>data</b>....</span>\n",
      "</div>\n",
      "<div class=\"iaP\">\n",
      "<span class=\"iaLabel\"> Easily apply</span>\n",
      "</div><div class=\"result-link-bar-container\">\n",
      "<div class=\"result-link-bar\"><span class=\"date\">5 days ago</span> <span class=\"tt_set\" id=\"tt_set_5\"> - <span class=\"savelink2\" id=\"savelink2_f5e03cefdb936a0f\"><a class=\"sl resultLink save-job-link\" href=\"#\" id=\"sj_f5e03cefdb936a0f\" onclick=\"changeJobState('f5e03cefdb936a0f', 'save', 'linkbar', false);return false;\" title=\"Save this job to my.indeed\">save job</a></span> - <a class=\"sl resultLink more-link \" href=\"#\" id=\"tog_5\" onclick=\"toggleMoreLinks('f5e03cefdb936a0f'); return false;\">more...</a></span><div class=\"edit_note_content\" id=\"editsaved2_f5e03cefdb936a0f\" style=\"display:none;\"></div><script>window['result_f5e03cefdb936a0f'] = {\"showSource\": false, \"source\": \"Komodo Health\", \"loggedIn\": false, \"showMyJobsLinks\": true,\"undoAction\": \"unsave\",\"relativeJobAge\": \"5 days ago\",\"jobKey\": \"f5e03cefdb936a0f\", \"myIndeedAvailable\": true, \"tellAFriendEnabled\": false, \"showMoreActionsLink\": true, \"resultNumber\": 5, \"jobStateChangedToSaved\": false, \"searchState\": \"q=data scientist $20,000&amp;l=New+York&amp;start=10\", \"basicPermaLink\": \"http://www.indeed.com\", \"saveJobFailed\": false, \"removeJobFailed\": false, \"requestPending\": false, \"notesEnabled\": true, \"currentPage\" : \"serp\", \"sponsored\" : false,\"reportJobButtonEnabled\": false, \"showMyJobsHired\": false};</script></div></div>\n",
      "<div class=\"tab-container\">\n",
      "<div class=\"more-links-container result-tab\" id=\"tt_display_5\" style=\"display:none;\"><a class=\"close-link closeLink\" href=\"#\" onclick=\"toggleMoreLinks('f5e03cefdb936a0f'); return false;\" title=\"Close\"></a><div class=\"more_actions\" id=\"more_5\"><ul><li><span class=\"mat\">View all <a href=\"/q-Komodo-Health-l-New-York,-NY-jobs.html\" rel=\"nofollow\">Komodo Health jobs in New York, NY</a> - <a href=\"/l-New-York,-NY-jobs.html\">New York jobs</a></span></li><li><span class=\"mat\">Salary Search: <a href=\"/salary?q1=Data+Scientist&amp;l1=New+York%2C+NY\" onmousedown=\"this.href = appendParamsOnce(this.href, '');\">Data Scientist salaries in New York, NY</a></span></li><li><span class=\"mat\">Related forums: <a href=\"/forum/cmp/Komodo-Health.html\">Komodo Health</a> - <a href=\"/forum/loc/New-York-New-York.html\">New York, New York</a></span></li></ul></div></div><div class=\"dya-container result-tab\"></div>\n",
      "<div class=\"tellafriend-container result-tab email_job_content\"></div>\n",
      "<div class=\"sign-in-container result-tab\"></div>\n",
      "<div class=\"notes-container result-tab\"></div>\n",
      "</div>\n",
      "</td>\n",
      "</tr>\n",
      "</table>\n",
      "</div>\n",
      "+++++++++++ 6 \n",
      "<div class=\" row result\" data-jk=\"100d3487f0da530f\" data-tn-component=\"organicJob\" id=\"p_100d3487f0da530f\" itemscope=\"\" itemtype=\"http://schema.org/JobPosting\">\n",
      "<h2 class=\"jobtitle\" id=\"jl_100d3487f0da530f\">\n",
      "<a class=\"turnstileLink\" data-tn-element=\"jobTitle\" href=\"/rc/clk?jk=100d3487f0da530f&amp;fccid=0c39fb2c91742dcf\" itemprop=\"title\" onclick=\"setRefineByCookie(['salest']); return rclk(this,jobmap[6],true,0);\" onmousedown=\"return rclk(this,jobmap[6],0);\" rel=\"nofollow\" target=\"_blank\" title=\"FinTech Data Scientist\">FinTech <b>Data</b> <b>Scientist</b></a>\n",
      "</h2>\n",
      "<span class=\"company\" itemprop=\"hiringOrganization\" itemtype=\"http://schema.org/Organization\">\n",
      "<span itemprop=\"name\">\n",
      "<a href=\"/cmp/Morgan-Stanley\" onmousedown=\"this.href = appendParamsOnce(this.href, 'from=SERP&amp;campaignid=serp-linkcompanyname&amp;fromjk=100d3487f0da530f&amp;jcid=0c39fb2c91742dcf')\" target=\"_blank\">\n",
      "        Morgan Stanley</a></span>\n",
      "</span>\n",
      "\n",
      " - <a class=\"turnstileLink slNoUnderline \" data-tn-element=\"reviewStars\" data-tn-variant=\"cmplinktst2\" href=\"/cmp/Morgan-Stanley/reviews\" onmousedown=\"this.href = appendParamsOnce(this.href, '?campaignid=cmplinktst2&amp;from=SERP&amp;jt=FinTech+Data+Scientist&amp;fromjk=100d3487f0da530f&amp;jcid=0c39fb2c91742dcf');\" target=\"_blank\" title=\"Morgan Stanley reviews\">\n",
      "<span class=\"ratings\" style=\"height: 11px; line-height: 11px; background-image: url(/images/cmp/star_2_sm@2x.png); background-size: 12px 22px;width: 60px;\"><span class=\"rating\" style=\"height: 11px; line-height: 11px; background-image: url(/images/cmp/star_2_sm@2x.png); background-size: 12px 22px;background-position: 0 11px; width: 44.4px;\"><!-- --></span></span><span class=\"slNoUnderline\">1,528 reviews</span></a>\n",
      " - <span itemprop=\"jobLocation\" itemscope=\"\" itemtype=\"http://schema.org/Place\"><span class=\"location\" itemprop=\"address\" itemscope=\"\" itemtype=\"http://schema.org/Postaladdress\"><span itemprop=\"addressLocality\">New York, NY 10032 <span style=\"font-size: smaller\">(Washington Heights area)</span></span></span></span>\n",
      "<table border=\"0\" cellpadding=\"0\" cellspacing=\"0\">\n",
      "<tr>\n",
      "<td class=\"snip\">\n",
      "<div>\n",
      "<span class=\"summary\" itemprop=\"description\">\n",
      "Be agile by demonstrating the value potential of <b>data</b> through the application of core <b>Data</b> Science skills. Knowledge of <b>data</b> mining a plus....</span>\n",
      "</div>\n",
      "<div class=\"result-link-bar-container\">\n",
      "<div class=\"result-link-bar\"><span class=\"date\">30+ days ago</span> <span class=\"tt_set\" id=\"tt_set_6\"> - <span class=\"savelink2\" id=\"savelink2_100d3487f0da530f\"><a class=\"sl resultLink save-job-link\" href=\"#\" id=\"sj_100d3487f0da530f\" onclick=\"changeJobState('100d3487f0da530f', 'save', 'linkbar', false);return false;\" title=\"Save this job to my.indeed\">save job</a></span> - <a class=\"sl resultLink more-link \" href=\"#\" id=\"tog_6\" onclick=\"toggleMoreLinks('100d3487f0da530f'); return false;\">more...</a></span><div class=\"edit_note_content\" id=\"editsaved2_100d3487f0da530f\" style=\"display:none;\"></div><script>window['result_100d3487f0da530f'] = {\"showSource\": false, \"source\": \"Morgan Stanley\", \"loggedIn\": false, \"showMyJobsLinks\": true,\"undoAction\": \"unsave\",\"relativeJobAge\": \"30+ days ago\",\"jobKey\": \"100d3487f0da530f\", \"myIndeedAvailable\": true, \"tellAFriendEnabled\": false, \"showMoreActionsLink\": true, \"resultNumber\": 6, \"jobStateChangedToSaved\": false, \"searchState\": \"q=data scientist $20,000&amp;l=New+York&amp;start=10\", \"basicPermaLink\": \"http://www.indeed.com\", \"saveJobFailed\": false, \"removeJobFailed\": false, \"requestPending\": false, \"notesEnabled\": true, \"currentPage\" : \"serp\", \"sponsored\" : false,\"reportJobButtonEnabled\": false, \"showMyJobsHired\": false};</script></div></div>\n",
      "<div class=\"tab-container\">\n",
      "<div class=\"more-links-container result-tab\" id=\"tt_display_6\" style=\"display:none;\"><a class=\"close-link closeLink\" href=\"#\" onclick=\"toggleMoreLinks('100d3487f0da530f'); return false;\" title=\"Close\"></a><div class=\"more_actions\" id=\"more_6\"><ul><li><span class=\"mat\">View all <a href=\"/q-Morgan-Stanley-l-New-York,-NY-jobs.html\" rel=\"nofollow\">Morgan Stanley jobs in New York, NY</a> - <a href=\"/l-New-York,-NY-jobs.html\">New York jobs</a></span></li><li><span class=\"mat\">Salary Search: <a href=\"/salary?q1=Fintech+Data+Scientist&amp;l1=New+York%2C+NY\" onmousedown=\"this.href = appendParamsOnce(this.href, '');\">Fintech Data Scientist salaries in New York, NY</a></span></li><li><span class=\"mat\">Learn more about working at <a href=\"/cmp/Morgan-Stanley\" onmousedown=\"this.href = appendParamsOnce(this.href, '?fromjk=100d3487f0da530f&amp;from=serp-more&amp;campaignid=serp-more&amp;jcid=0c39fb2c91742dcf');\">Morgan Stanley</a></span></li><li><span class=\"mat\">Related forums:  - <a href=\"/forum/loc/New-York-New-York.html\">New York, New York</a> - <a href=\"/forum/cmp/Morgan-Stanley.html\">Morgan Stanley</a></span></li></ul></div></div><div class=\"dya-container result-tab\"></div>\n",
      "<div class=\"tellafriend-container result-tab email_job_content\"></div>\n",
      "<div class=\"sign-in-container result-tab\"></div>\n",
      "<div class=\"notes-container result-tab\"></div>\n",
      "</div>\n",
      "</td>\n",
      "</tr>\n",
      "</table>\n",
      "</div>\n",
      "+++++++++++ 7 \n",
      "<div class=\" row result\" data-jk=\"fb8776d2079bed6d\" data-tn-component=\"organicJob\" id=\"p_fb8776d2079bed6d\" itemscope=\"\" itemtype=\"http://schema.org/JobPosting\">\n",
      "<h2 class=\"jobtitle\" id=\"jl_fb8776d2079bed6d\">\n",
      "<a class=\"turnstileLink\" data-tn-element=\"jobTitle\" href=\"/rc/clk?jk=fb8776d2079bed6d&amp;fccid=6ae0e4a8a0a337cd\" itemprop=\"title\" onclick=\"setRefineByCookie(['salest']); return rclk(this,jobmap[7],true,0);\" onmousedown=\"return rclk(this,jobmap[7],0);\" rel=\"nofollow\" target=\"_blank\" title=\"Data Scientist\"><b>Data</b> <b>Scientist</b></a>\n",
      "</h2>\n",
      "<span class=\"company\" itemprop=\"hiringOrganization\" itemtype=\"http://schema.org/Organization\">\n",
      "<span itemprop=\"name\">\n",
      "<a href=\"/cmp/Placeiq\" onmousedown=\"this.href = appendParamsOnce(this.href, 'from=SERP&amp;campaignid=serp-linkcompanyname&amp;fromjk=fb8776d2079bed6d&amp;jcid=6ae0e4a8a0a337cd')\" target=\"_blank\">\n",
      "        PlaceIQ</a></span>\n",
      "</span>\n",
      "\n",
      " - <a class=\"turnstileLink slNoUnderline \" data-tn-element=\"reviewStars\" data-tn-variant=\"cmplinktst2\" href=\"/cmp/Placeiq/reviews\" onmousedown=\"this.href = appendParamsOnce(this.href, '?campaignid=cmplinktst2&amp;from=SERP&amp;jt=Data+Scientist&amp;fromjk=fb8776d2079bed6d&amp;jcid=6ae0e4a8a0a337cd');\" target=\"_blank\" title=\"Placeiq reviews\">\n",
      "<span class=\"ratings\" style=\"height: 11px; line-height: 11px; background-image: url(/images/cmp/star_2_sm@2x.png); background-size: 12px 22px;width: 60px;\"><span class=\"rating\" style=\"height: 11px; line-height: 11px; background-image: url(/images/cmp/star_2_sm@2x.png); background-size: 12px 22px;background-position: 0 11px; width: 55.199997px;\"><!-- --></span></span><span class=\"slNoUnderline\">3 reviews</span></a>\n",
      " - <span itemprop=\"jobLocation\" itemscope=\"\" itemtype=\"http://schema.org/Place\"><span class=\"location\" itemprop=\"address\" itemscope=\"\" itemtype=\"http://schema.org/Postaladdress\"><span itemprop=\"addressLocality\">New York, NY</span></span></span>\n",
      "<table border=\"0\" cellpadding=\"0\" cellspacing=\"0\">\n",
      "<tr>\n",
      "<td class=\"snip\">\n",
      "<div>\n",
      "<span class=\"summary\" itemprop=\"description\">\n",
      "<b>Data</b> <b>Scientists</b> analyze PlaceIQ hyperlocal <b>data</b> sources to develop accurate predictions of audience and behavior....</span>\n",
      "</div>\n",
      "<div class=\"result-link-bar-container\">\n",
      "<div class=\"result-link-bar\"><span class=\"date\">11 days ago</span> <span class=\"tt_set\" id=\"tt_set_7\"> - <span class=\"savelink2\" id=\"savelink2_fb8776d2079bed6d\"><a class=\"sl resultLink save-job-link\" href=\"#\" id=\"sj_fb8776d2079bed6d\" onclick=\"changeJobState('fb8776d2079bed6d', 'save', 'linkbar', false);return false;\" title=\"Save this job to my.indeed\">save job</a></span> - <a class=\"sl resultLink more-link \" href=\"#\" id=\"tog_7\" onclick=\"toggleMoreLinks('fb8776d2079bed6d'); return false;\">more...</a></span><div class=\"edit_note_content\" id=\"editsaved2_fb8776d2079bed6d\" style=\"display:none;\"></div><script>window['result_fb8776d2079bed6d'] = {\"showSource\": false, \"source\": \"PlaceIQ\", \"loggedIn\": false, \"showMyJobsLinks\": true,\"undoAction\": \"unsave\",\"relativeJobAge\": \"11 days ago\",\"jobKey\": \"fb8776d2079bed6d\", \"myIndeedAvailable\": true, \"tellAFriendEnabled\": false, \"showMoreActionsLink\": true, \"resultNumber\": 7, \"jobStateChangedToSaved\": false, \"searchState\": \"q=data scientist $20,000&amp;l=New+York&amp;start=10\", \"basicPermaLink\": \"http://www.indeed.com\", \"saveJobFailed\": false, \"removeJobFailed\": false, \"requestPending\": false, \"notesEnabled\": true, \"currentPage\" : \"serp\", \"sponsored\" : false,\"reportJobButtonEnabled\": false, \"showMyJobsHired\": false};</script></div></div>\n",
      "<div class=\"tab-container\">\n",
      "<div class=\"more-links-container result-tab\" id=\"tt_display_7\" style=\"display:none;\"><a class=\"close-link closeLink\" href=\"#\" onclick=\"toggleMoreLinks('fb8776d2079bed6d'); return false;\" title=\"Close\"></a><div class=\"more_actions\" id=\"more_7\"><ul><li><span class=\"mat\">View all <a href=\"/q-Placeiq-l-New-York,-NY-jobs.html\" rel=\"nofollow\">PlaceIQ jobs in New York, NY</a> - <a href=\"/l-New-York,-NY-jobs.html\">New York jobs</a></span></li><li><span class=\"mat\">Salary Search: <a href=\"/salary?q1=Data+Scientist&amp;l1=New+York%2C+NY\" onmousedown=\"this.href = appendParamsOnce(this.href, '');\">Data Scientist salaries in New York, NY</a></span></li><li><span class=\"mat\">Learn more about working at <a href=\"/cmp/Placeiq\" onmousedown=\"this.href = appendParamsOnce(this.href, '?fromjk=fb8776d2079bed6d&amp;from=serp-more&amp;campaignid=serp-more&amp;jcid=6ae0e4a8a0a337cd');\">Placeiq</a></span></li><li><span class=\"mat\">Related forums: <a href=\"/forum/cmp/Placeiq.html\">PlaceIQ</a> - <a href=\"/forum/loc/New-York-New-York.html\">New York, New York</a></span></li></ul></div></div><div class=\"dya-container result-tab\"></div>\n",
      "<div class=\"tellafriend-container result-tab email_job_content\"></div>\n",
      "<div class=\"sign-in-container result-tab\"></div>\n",
      "<div class=\"notes-container result-tab\"></div>\n",
      "</div>\n",
      "</td>\n",
      "</tr>\n",
      "</table>\n",
      "</div>\n",
      "+++++++++++ 8 \n",
      "<div class=\" row result\" data-jk=\"9bea4a1ec017d00d\" data-tn-component=\"organicJob\" id=\"p_9bea4a1ec017d00d\" itemscope=\"\" itemtype=\"http://schema.org/JobPosting\">\n",
      "<h2 class=\"jobtitle\" id=\"jl_9bea4a1ec017d00d\">\n",
      "<a class=\"turnstileLink\" data-tn-element=\"jobTitle\" href=\"/rc/clk?jk=9bea4a1ec017d00d&amp;fccid=2c6850e24c8a2811\" itemprop=\"title\" onclick=\"setRefineByCookie(['salest']); return rclk(this,jobmap[8],true,0);\" onmousedown=\"return rclk(this,jobmap[8],0);\" rel=\"nofollow\" target=\"_blank\" title=\"Junior Data Scientist, Data &amp; Statistics - Data Capabilities Office\">Junior <b>Data</b> <b>Scientist</b>, <b>Data</b> &amp; Statistics - <b>Data</b> Capabilities...</a>\n",
      "</h2>\n",
      "<span class=\"company\" itemprop=\"hiringOrganization\" itemtype=\"http://schema.org/Organization\">\n",
      "<span itemprop=\"name\">\n",
      "<a href=\"/cmp/Federal-Reserve-Bank-of-New-York\" onmousedown=\"this.href = appendParamsOnce(this.href, 'from=SERP&amp;campaignid=serp-linkcompanyname&amp;fromjk=9bea4a1ec017d00d&amp;jcid=2c6850e24c8a2811')\" target=\"_blank\">\n",
      "        Federal Reserve Bank of New York</a></span>\n",
      "</span>\n",
      "\n",
      " - <a class=\"turnstileLink slNoUnderline \" data-tn-element=\"reviewStars\" data-tn-variant=\"cmplinktst2\" href=\"/cmp/Federal-Reserve-Bank-of-New-York/reviews\" onmousedown=\"this.href = appendParamsOnce(this.href, '?campaignid=cmplinktst2&amp;from=SERP&amp;jt=Junior+Data+Scientist%2C+Data+%26+Statistics+-+Data+Capabilities+Office&amp;fromjk=9bea4a1ec017d00d&amp;jcid=2c6850e24c8a2811');\" target=\"_blank\">\n",
      "<span class=\"ratings\" style=\"height: 11px; line-height: 11px; background-image: url(/images/cmp/star_2_sm@2x.png); background-size: 12px 22px;width: 60px;\"><span class=\"rating\" style=\"height: 11px; line-height: 11px; background-image: url(/images/cmp/star_2_sm@2x.png); background-size: 12px 22px;background-position: 0 11px; width: 51.6px;\"><!-- --></span></span><span class=\"slNoUnderline\">314 reviews</span></a>\n",
      " - <span itemprop=\"jobLocation\" itemscope=\"\" itemtype=\"http://schema.org/Place\"><span class=\"location\" itemprop=\"address\" itemscope=\"\" itemtype=\"http://schema.org/Postaladdress\"><span itemprop=\"addressLocality\">New York, NY</span></span></span>\n",
      "<table border=\"0\" cellpadding=\"0\" cellspacing=\"0\">\n",
      "<tr>\n",
      "<td class=\"snip\">\n",
      "<div>\n",
      "<span class=\"summary\" itemprop=\"description\">\n",
      "Junior <b>Data</b> <b>Scientist</b>, <b>Data</b> &amp; Statistics - <b>Data</b> Capabilities Office. The Junior <b>Data</b> <b>Scientist</b> will work directly with business line applied <b>data</b> <b>scientists</b> and...</span>\n",
      "</div>\n",
      "<div class=\"result-link-bar-container\">\n",
      "<div class=\"result-link-bar\"><span class=\"date\">5 days ago</span> <span class=\"tt_set\" id=\"tt_set_8\"> - <span class=\"savelink2\" id=\"savelink2_9bea4a1ec017d00d\"><a class=\"sl resultLink save-job-link\" href=\"#\" id=\"sj_9bea4a1ec017d00d\" onclick=\"changeJobState('9bea4a1ec017d00d', 'save', 'linkbar', false);return false;\" title=\"Save this job to my.indeed\">save job</a></span> - <a class=\"sl resultLink more-link \" href=\"#\" id=\"tog_8\" onclick=\"toggleMoreLinks('9bea4a1ec017d00d'); return false;\">more...</a></span><div class=\"edit_note_content\" id=\"editsaved2_9bea4a1ec017d00d\" style=\"display:none;\"></div><script>window['result_9bea4a1ec017d00d'] = {\"showSource\": false, \"source\": \"Federal Reserve Bank of New York\", \"loggedIn\": false, \"showMyJobsLinks\": true,\"undoAction\": \"unsave\",\"relativeJobAge\": \"5 days ago\",\"jobKey\": \"9bea4a1ec017d00d\", \"myIndeedAvailable\": true, \"tellAFriendEnabled\": false, \"showMoreActionsLink\": true, \"resultNumber\": 8, \"jobStateChangedToSaved\": false, \"searchState\": \"q=data scientist $20,000&amp;l=New+York&amp;start=10\", \"basicPermaLink\": \"http://www.indeed.com\", \"saveJobFailed\": false, \"removeJobFailed\": false, \"requestPending\": false, \"notesEnabled\": true, \"currentPage\" : \"serp\", \"sponsored\" : false,\"reportJobButtonEnabled\": false, \"showMyJobsHired\": false};</script></div></div>\n",
      "<div class=\"tab-container\">\n",
      "<div class=\"more-links-container result-tab\" id=\"tt_display_8\" style=\"display:none;\"><a class=\"close-link closeLink\" href=\"#\" onclick=\"toggleMoreLinks('9bea4a1ec017d00d'); return false;\" title=\"Close\"></a><div class=\"more_actions\" id=\"more_8\"><ul><li><span class=\"mat\">View all <a href=\"/q-Federal-Reserve-Bank-of-New-York-l-New-York,-NY-jobs.html\" rel=\"nofollow\">Federal Reserve Bank of New York jobs in New York, NY</a> - <a href=\"/l-New-York,-NY-jobs.html\">New York jobs</a></span></li><li><span class=\"mat\">Salary Search: <a href=\"/salary?q1=Junior+Data+Scientist&amp;l1=New+York%2C+NY\" onmousedown=\"this.href = appendParamsOnce(this.href, '');\">Junior Data Scientist salaries in New York, NY</a></span></li><li><span class=\"mat\">Learn more about working at <a href=\"/cmp/Federal-Reserve-Bank-of-New-York\" onmousedown=\"this.href = appendParamsOnce(this.href, '?fromjk=9bea4a1ec017d00d&amp;from=serp-more&amp;campaignid=serp-more&amp;jcid=2c6850e24c8a2811');\">Federal Reserve Bank of New York</a></span></li><li><span class=\"mat\">Related forums:  - <a href=\"/forum/loc/New-York-New-York.html\">New York, New York</a> - <a href=\"/forum/cmp/Federal-Reserve-Bank-of-New-York.html\">Federal Reserve Bank of New York</a></span></li></ul></div></div><div class=\"dya-container result-tab\"></div>\n",
      "<div class=\"tellafriend-container result-tab email_job_content\"></div>\n",
      "<div class=\"sign-in-container result-tab\"></div>\n",
      "<div class=\"notes-container result-tab\"></div>\n",
      "</div>\n",
      "</td>\n",
      "</tr>\n",
      "</table>\n",
      "</div>\n"
     ]
    }
   ],
   "source": [
    "## YOUR CODE HERE\n",
    "divs = soup.find_all('div', class_=' row result')\n",
    "\n",
    "for idx, i in enumerate(divs):\n",
    "    print '+++++++++++', idx, '\\n', i"
   ]
  },
  {
   "cell_type": "markdown",
   "metadata": {
    "focus": false,
    "id": "bb0b866a-26a7-45e9-8084-5a0f90eb4b3e"
   },
   "source": [
    "Let's look at one result more closely. A single `result` looks like\n",
    "\n",
    "```\n",
    "<div class=\" row result\" data-jk=\"2480d203f7e97210\" data-tn-component=\"organicJob\" id=\"p_2480d203f7e97210\" itemscope=\"\" itemtype=\"http://schema.org/JobPosting\">\n",
    "<h2 class=\"jobtitle\" id=\"jl_2480d203f7e97210\">\n",
    "<a class=\"turnstileLink\" data-tn-element=\"jobTitle\" onmousedown=\"return rclk(this,jobmap[0],1);\" rel=\"nofollow\" target=\"_blank\" title=\"AVP/Quantitative Analyst\">AVP/Quantitative Analyst</a>\n",
    "</h2>\n",
    "<span class=\"company\" itemprop=\"hiringOrganization\" itemtype=\"http://schema.org/Organization\">\n",
    "<span itemprop=\"name\">\n",
    "<a href=\"/cmp/Alliancebernstein?from=SERP&amp;campaignid=serp-linkcompanyname&amp;fromjk=2480d203f7e97210&amp;jcid=b374f2a780e04789\" target=\"_blank\">\n",
    "    AllianceBernstein</a></span>\n",
    "</span>\n",
    "<tr>\n",
    "<td class=\"snip\">\n",
    "<nobr>$117,500 - $127,500 a year</nobr>\n",
    "<div>\n",
    "<span class=\"summary\" itemprop=\"description\">\n",
    "C onduct quantitative and statistical research as well as portfolio management for various investment portfolios. Collaborate with Quantitative Analysts and</span>\n",
    "</div>\n",
    "</div>\n",
    "</td>\n",
    "</tr>\n",
    "</table>\n",
    "</div>\n",
    "```\n",
    "\n",
    "While this has some more verbose elements removed, we can see that there is some structure to the above:\n",
    "- The salary is available in a `nobr` element inside of a `td` element with `class='snip`.\n",
    "- The title of a job is in a link with class set to `jobtitle` and a `data-tn-element=\"jobTitle`.  \n",
    "- The location is set in a `span` with `class='location'`. \n",
    "- The company is set in a `span` with `class='company'`. "
   ]
  },
  {
   "cell_type": "markdown",
   "metadata": {
    "focus": false,
    "id": "f1eddb90-4ba8-483c-a229-77e93aa53119"
   },
   "source": [
    "### Write 4 functions to extract each item: location, company, job, and salary.\n",
    "\n",
    "example: \n",
    "```python\n",
    "def extract_location_from_result(result):\n",
    "    return result.find ...\n",
    "```\n",
    "\n",
    "\n",
    "- **Make sure these functions are robust and can handle cases where the data/field may not be available.**\n",
    "    - Remember to check if a field is empty or `None` for attempting to call methods on it\n",
    "    - Remember to use `try/except` if you anticipate errors\n",
    "- **Test** the functions on the results above and simple examples"
   ]
  },
  {
   "cell_type": "code",
   "execution_count": 303,
   "metadata": {
    "collapsed": false,
    "focus": false,
    "id": "a1af53c9-9090-494f-b82e-cadb60a54909"
   },
   "outputs": [],
   "source": [
    "import re\n",
    "## YOUR CODE HERE\n",
    "def extract_loc(result):\n",
    "    dicty = {}\n",
    "    for idx, div in enumerate(result):\n",
    "        for idx2, j in enumerate(div.find_all('span', class_='location')):\n",
    "            dicty[idx2] = j.text\n",
    "    return dicty\n",
    "\n",
    "def extract_comp(result):\n",
    "    dicty = {}\n",
    "    for idx, div in enumerate(result):\n",
    "        for idx2, j in enumerate(div.find_all('span', class_='company')):\n",
    "            dicty[idx2] = j.text\n",
    "    return dicty\n",
    "        \n",
    "def extract_job(result):\n",
    "    dicty = {}\n",
    "    for idx, div in enumerate(result):\n",
    "        for idx2, h in enumerate(div.find_all('h2')):\n",
    "            dicty[idx2] = h.text\n",
    "    return dicty\n",
    "\n",
    "def extract_sal(result):\n",
    "    dicty = {}\n",
    "    for idx, div in enumerate(result):\n",
    "        for idx2, i in enumerate(div.find_all('td', class_='snip')):\n",
    "            for idx3, j in enumerate(i.find_all('nobr')):\n",
    "                dicty[idx2] = j.text\n",
    "    return dicty\n",
    "        \n",
    "            "
   ]
  },
  {
   "cell_type": "markdown",
   "metadata": {
    "focus": false,
    "id": "34070e89-9521-4b45-90c8-57a6599aac68"
   },
   "source": [
    "Now, to scale up our scraping, we need to accumulate more results. We can do this by examining the URL above.\n",
    "\n",
    "- \"http://www.indeed.com/jobs?q=data+scientist+%2420%2C000&l=New+York&start=10\"\n",
    "\n",
    "There are two query parameters here we can alter to collect more results, the `l=New+York` and the `start=10`. The first controls the location of the results (so we can try a different city). The second controls where in the results to start and gives 10 results (thus, we can keep incrementing by 10 to go further in the list)."
   ]
  },
  {
   "cell_type": "markdown",
   "metadata": {
    "focus": false,
    "id": "e8beed7c-3e42-40c0-810f-5f67f8f885a0"
   },
   "source": [
    "#### Complete the following code to collect results from multiple cities and starting points. \n",
    "- Enter your city below to add it to the search\n",
    "- Remember to convert your salary to U.S. Dollars to match the other cities if the currency is different"
   ]
  },
  {
   "cell_type": "code",
   "execution_count": 304,
   "metadata": {
    "collapsed": true,
    "focus": false,
    "id": "a9aa87ec-3575-4a01-a986-eb684f2c47d0"
   },
   "outputs": [],
   "source": [
    "YOUR_CITY = 'Seattle'"
   ]
  },
  {
   "cell_type": "code",
   "execution_count": 305,
   "metadata": {
    "collapsed": false,
    "focus": false,
    "id": "04b0f9af-540e-402f-8292-81748707c676"
   },
   "outputs": [],
   "source": [
    "url_template = \"http://www.indeed.com/jobs?q=data+scientist+%2420%2C000&l={}&start={}\"\n",
    "max_results_per_city = 500 # Set this to a high-value (5000) to generate more results. \n",
    "# Crawling more results, will also take much longer. First test your code on a small number of results and then expand.\n",
    "\n",
    "results = []\n",
    "\n",
    "for city in ['New+York', 'Chicago', 'San+Francisco', 'Austin', 'Seattle', \n",
    "    'Los+Angeles', 'Philadelphia', 'Atlanta', 'Dallas', 'Pittsburgh', \n",
    "    'Portland', 'Phoenix', 'Denver', 'Houston', 'Miami']:\n",
    "    for start in range(0, max_results_per_city, 10):\n",
    "        url_ = 'http://www.indeed.com/jobs?q=data+scientist+%2420%2C000&l='+city+'&start='+str(start)\n",
    "        soupy = (BeautifulSoup(urllib2.urlopen(url_).read()))\n",
    "        results.append(soupy.find_all('div', class_=' row result'))"
   ]
  },
  {
   "cell_type": "markdown",
   "metadata": {
    "focus": false,
    "id": "20339c09-5032-4e27-91be-286e9b46cd13"
   },
   "source": [
    "#### Use the functions you wrote above to parse out the 4 fields - location, title, company and salary. Create a dataframe from the results with those 4 columns."
   ]
  },
  {
   "cell_type": "code",
   "execution_count": 540,
   "metadata": {
    "collapsed": false
   },
   "outputs": [],
   "source": [
    "import pandas as pd\n",
    "\n"
   ]
  },
  {
   "cell_type": "code",
   "execution_count": 829,
   "metadata": {
    "collapsed": false,
    "focus": false,
    "id": "6e259594-1c52-436b-ab9e-527e071941c1"
   },
   "outputs": [],
   "source": [
    "listy = []\n",
    "for i in results:\n",
    "    listy.append(extract_loc(i))\n",
    "df = pd.DataFrame(listy)\n"
   ]
  },
  {
   "cell_type": "code",
   "execution_count": 830,
   "metadata": {
    "collapsed": false
   },
   "outputs": [],
   "source": [
    "listy = []\n",
    "for i in results:\n",
    "    listy.append(extract_job(i))\n",
    "df['job'] = pd.DataFrame(listy)"
   ]
  },
  {
   "cell_type": "code",
   "execution_count": 831,
   "metadata": {
    "collapsed": false,
    "scrolled": true
   },
   "outputs": [],
   "source": [
    "listy = []\n",
    "for i in results:\n",
    "    listy.append(extract_sal(i))\n",
    "df['sal'] = pd.DataFrame(listy)\n"
   ]
  },
  {
   "cell_type": "code",
   "execution_count": 832,
   "metadata": {
    "collapsed": false
   },
   "outputs": [
    {
     "data": {
      "text/html": [
       "<div>\n",
       "<table border=\"1\" class=\"dataframe\">\n",
       "  <thead>\n",
       "    <tr style=\"text-align: right;\">\n",
       "      <th></th>\n",
       "      <th>0</th>\n",
       "      <th>job</th>\n",
       "      <th>sal</th>\n",
       "      <th>comp</th>\n",
       "    </tr>\n",
       "  </thead>\n",
       "  <tbody>\n",
       "    <tr>\n",
       "      <th>0</th>\n",
       "      <td>New York, NY</td>\n",
       "      <td>\\nChief Data Scientist\\n</td>\n",
       "      <td>NaN</td>\n",
       "      <td>\\n\\n    Knotch, Inc.\\n</td>\n",
       "    </tr>\n",
       "    <tr>\n",
       "      <th>1</th>\n",
       "      <td>New York, NY</td>\n",
       "      <td>\\nJunior Data Scientist, Data &amp; Statistics - D...</td>\n",
       "      <td>NaN</td>\n",
       "      <td>\\n\\n\\n        Federal Reserve Bank of New York\\n</td>\n",
       "    </tr>\n",
       "    <tr>\n",
       "      <th>2</th>\n",
       "      <td>New York, NY 10029 (Yorkville area)</td>\n",
       "      <td>\\nData Scientist - Scientific Computing\\n</td>\n",
       "      <td>NaN</td>\n",
       "      <td>\\n\\n\\n        Mount Sinai Health System\\n</td>\n",
       "    </tr>\n",
       "    <tr>\n",
       "      <th>3</th>\n",
       "      <td>New York, NY</td>\n",
       "      <td>\\nData Scientist\\n</td>\n",
       "      <td>$90 an hour</td>\n",
       "      <td>\\n\\n    Countr\\n</td>\n",
       "    </tr>\n",
       "    <tr>\n",
       "      <th>4</th>\n",
       "      <td>New York, NY</td>\n",
       "      <td>\\nLoyalty - Research Analyst (Entry-Level)\\n</td>\n",
       "      <td>NaN</td>\n",
       "      <td>\\n\\n\\n        Ipsos North America\\n</td>\n",
       "    </tr>\n",
       "  </tbody>\n",
       "</table>\n",
       "</div>"
      ],
      "text/plain": [
       "                                     0  \\\n",
       "0                         New York, NY   \n",
       "1                         New York, NY   \n",
       "2  New York, NY 10029 (Yorkville area)   \n",
       "3                         New York, NY   \n",
       "4                         New York, NY   \n",
       "\n",
       "                                                 job          sal  \\\n",
       "0                           \\nChief Data Scientist\\n          NaN   \n",
       "1  \\nJunior Data Scientist, Data & Statistics - D...          NaN   \n",
       "2          \\nData Scientist - Scientific Computing\\n          NaN   \n",
       "3                                 \\nData Scientist\\n  $90 an hour   \n",
       "4       \\nLoyalty - Research Analyst (Entry-Level)\\n          NaN   \n",
       "\n",
       "                                               comp  \n",
       "0                            \\n\\n    Knotch, Inc.\\n  \n",
       "1  \\n\\n\\n        Federal Reserve Bank of New York\\n  \n",
       "2         \\n\\n\\n        Mount Sinai Health System\\n  \n",
       "3                                  \\n\\n    Countr\\n  \n",
       "4               \\n\\n\\n        Ipsos North America\\n  "
      ]
     },
     "execution_count": 832,
     "metadata": {},
     "output_type": "execute_result"
    }
   ],
   "source": [
    "listy = []\n",
    "for i in results:\n",
    "    listy.append(extract_comp(i))\n",
    "df['comp'] = pd.DataFrame(listy)\n",
    "df.head()"
   ]
  },
  {
   "cell_type": "code",
   "execution_count": 833,
   "metadata": {
    "collapsed": false
   },
   "outputs": [],
   "source": [
    "df.columns = ['city', 'job', 'salary', 'company']"
   ]
  },
  {
   "cell_type": "code",
   "execution_count": 834,
   "metadata": {
    "collapsed": false
   },
   "outputs": [
    {
     "data": {
      "text/html": [
       "<div>\n",
       "<table border=\"1\" class=\"dataframe\">\n",
       "  <thead>\n",
       "    <tr style=\"text-align: right;\">\n",
       "      <th></th>\n",
       "      <th>city</th>\n",
       "      <th>job</th>\n",
       "      <th>salary</th>\n",
       "      <th>company</th>\n",
       "    </tr>\n",
       "  </thead>\n",
       "  <tbody>\n",
       "    <tr>\n",
       "      <th>0</th>\n",
       "      <td>New York, NY</td>\n",
       "      <td>\\nChief Data Scientist\\n</td>\n",
       "      <td>NaN</td>\n",
       "      <td>\\n\\n    Knotch, Inc.\\n</td>\n",
       "    </tr>\n",
       "    <tr>\n",
       "      <th>1</th>\n",
       "      <td>New York, NY</td>\n",
       "      <td>\\nJunior Data Scientist, Data &amp; Statistics - D...</td>\n",
       "      <td>NaN</td>\n",
       "      <td>\\n\\n\\n        Federal Reserve Bank of New York\\n</td>\n",
       "    </tr>\n",
       "    <tr>\n",
       "      <th>2</th>\n",
       "      <td>New York, NY 10029 (Yorkville area)</td>\n",
       "      <td>\\nData Scientist - Scientific Computing\\n</td>\n",
       "      <td>NaN</td>\n",
       "      <td>\\n\\n\\n        Mount Sinai Health System\\n</td>\n",
       "    </tr>\n",
       "    <tr>\n",
       "      <th>4</th>\n",
       "      <td>New York, NY</td>\n",
       "      <td>\\nLoyalty - Research Analyst (Entry-Level)\\n</td>\n",
       "      <td>NaN</td>\n",
       "      <td>\\n\\n\\n        Ipsos North America\\n</td>\n",
       "    </tr>\n",
       "    <tr>\n",
       "      <th>5</th>\n",
       "      <td>Jersey City, NJ</td>\n",
       "      <td>\\nData Scientist\\n</td>\n",
       "      <td>NaN</td>\n",
       "      <td>\\n\\n    SITO Mobile\\n</td>\n",
       "    </tr>\n",
       "  </tbody>\n",
       "</table>\n",
       "</div>"
      ],
      "text/plain": [
       "                                  city  \\\n",
       "0                         New York, NY   \n",
       "1                         New York, NY   \n",
       "2  New York, NY 10029 (Yorkville area)   \n",
       "4                         New York, NY   \n",
       "5                      Jersey City, NJ   \n",
       "\n",
       "                                                 job salary  \\\n",
       "0                           \\nChief Data Scientist\\n    NaN   \n",
       "1  \\nJunior Data Scientist, Data & Statistics - D...    NaN   \n",
       "2          \\nData Scientist - Scientific Computing\\n    NaN   \n",
       "4       \\nLoyalty - Research Analyst (Entry-Level)\\n    NaN   \n",
       "5                                 \\nData Scientist\\n    NaN   \n",
       "\n",
       "                                            company  \n",
       "0                            \\n\\n    Knotch, Inc.\\n  \n",
       "1  \\n\\n\\n        Federal Reserve Bank of New York\\n  \n",
       "2         \\n\\n\\n        Mount Sinai Health System\\n  \n",
       "4               \\n\\n\\n        Ipsos North America\\n  \n",
       "5                             \\n\\n    SITO Mobile\\n  "
      ]
     },
     "execution_count": 834,
     "metadata": {},
     "output_type": "execute_result"
    }
   ],
   "source": [
    "no_sal = df[df['salary'].isnull()]\n",
    "no_sal.head()"
   ]
  },
  {
   "cell_type": "markdown",
   "metadata": {
    "focus": false,
    "id": "ff98ce64-78a7-441f-a675-63464e32c834"
   },
   "source": [
    "Lastly, we need to clean up salary data. \n",
    "\n",
    "1. Only a small number of the scraped results have salary information - only these will be used for modeling.\n",
    "1. Some of the salaries are not yearly but hourly or weekly, these will not be useful to us for now\n",
    "1. Some of the entries may be duplicated\n",
    "1. The salaries are given as text and usually with ranges.\n",
    "\n",
    "#### Find the entries with annual salary entries, by filtering the entries without salaries or salaries that are not yearly (filter those that refer to hour or week). Also, remove duplicate entries"
   ]
  },
  {
   "cell_type": "code",
   "execution_count": 835,
   "metadata": {
    "collapsed": false,
    "focus": false,
    "id": "58533e57-f86b-494a-b841-e7b59c6229c6"
   },
   "outputs": [
    {
     "name": "stdout",
     "output_type": "stream",
     "text": [
      "(169, 4)\n"
     ]
    },
    {
     "data": {
      "text/html": [
       "<div>\n",
       "<table border=\"1\" class=\"dataframe\">\n",
       "  <thead>\n",
       "    <tr style=\"text-align: right;\">\n",
       "      <th></th>\n",
       "      <th>city</th>\n",
       "      <th>job</th>\n",
       "      <th>salary</th>\n",
       "      <th>company</th>\n",
       "    </tr>\n",
       "  </thead>\n",
       "  <tbody>\n",
       "    <tr>\n",
       "      <th>3</th>\n",
       "      <td>New York, NY</td>\n",
       "      <td>\\nData Scientist\\n</td>\n",
       "      <td>$90 an hour</td>\n",
       "      <td>\\n\\n    Countr\\n</td>\n",
       "    </tr>\n",
       "    <tr>\n",
       "      <th>6</th>\n",
       "      <td>New York, NY 10029 (Yorkville area)</td>\n",
       "      <td>\\nASSOCIATE RESEARCHER I\\n</td>\n",
       "      <td>$120,000 a year</td>\n",
       "      <td>\\n\\n\\n        Mount Sinai Health System\\n</td>\n",
       "    </tr>\n",
       "    <tr>\n",
       "      <th>7</th>\n",
       "      <td>New York, NY</td>\n",
       "      <td>\\nCross Asset Quantitative Strategist, Analyst...</td>\n",
       "      <td>$120,000 - $150,000 a year</td>\n",
       "      <td>\\n\\n\\n        Goldman Sachs\\n</td>\n",
       "    </tr>\n",
       "    <tr>\n",
       "      <th>8</th>\n",
       "      <td>New York, NY</td>\n",
       "      <td>\\nData Scientist / Lead Quantitative Analyst\\n</td>\n",
       "      <td>$150,000 - $200,000 a year</td>\n",
       "      <td>\\n\\n\\n        Guidepoint Global\\n</td>\n",
       "    </tr>\n",
       "    <tr>\n",
       "      <th>10</th>\n",
       "      <td>New York, NY</td>\n",
       "      <td>\\nQuantitative Researcher in Machine Learning\\n</td>\n",
       "      <td>$110,000 - $275,000 a year</td>\n",
       "      <td>\\n\\n    Two Sigma Investments, LLC.\\n</td>\n",
       "    </tr>\n",
       "  </tbody>\n",
       "</table>\n",
       "</div>"
      ],
      "text/plain": [
       "                                   city  \\\n",
       "3                          New York, NY   \n",
       "6   New York, NY 10029 (Yorkville area)   \n",
       "7                          New York, NY   \n",
       "8                          New York, NY   \n",
       "10                         New York, NY   \n",
       "\n",
       "                                                  job  \\\n",
       "3                                  \\nData Scientist\\n   \n",
       "6                          \\nASSOCIATE RESEARCHER I\\n   \n",
       "7   \\nCross Asset Quantitative Strategist, Analyst...   \n",
       "8      \\nData Scientist / Lead Quantitative Analyst\\n   \n",
       "10    \\nQuantitative Researcher in Machine Learning\\n   \n",
       "\n",
       "                        salary                                    company  \n",
       "3                  $90 an hour                           \\n\\n    Countr\\n  \n",
       "6              $120,000 a year  \\n\\n\\n        Mount Sinai Health System\\n  \n",
       "7   $120,000 - $150,000 a year              \\n\\n\\n        Goldman Sachs\\n  \n",
       "8   $150,000 - $200,000 a year          \\n\\n\\n        Guidepoint Global\\n  \n",
       "10  $110,000 - $275,000 a year      \\n\\n    Two Sigma Investments, LLC.\\n  "
      ]
     },
     "execution_count": 835,
     "metadata": {},
     "output_type": "execute_result"
    }
   ],
   "source": [
    "## YOUR CODE HERE\n",
    "df.dropna(how='any', axis=0, inplace=True)\n",
    "df.drop_duplicates(inplace=True)\n",
    "print df.shape\n",
    "df.head()"
   ]
  },
  {
   "cell_type": "code",
   "execution_count": 836,
   "metadata": {
    "collapsed": false
   },
   "outputs": [
    {
     "data": {
      "text/html": [
       "<div>\n",
       "<table border=\"1\" class=\"dataframe\">\n",
       "  <thead>\n",
       "    <tr style=\"text-align: right;\">\n",
       "      <th></th>\n",
       "      <th>city</th>\n",
       "      <th>job</th>\n",
       "      <th>salary</th>\n",
       "      <th>company</th>\n",
       "    </tr>\n",
       "  </thead>\n",
       "  <tbody>\n",
       "    <tr>\n",
       "      <th>3</th>\n",
       "      <td>New York, NY</td>\n",
       "      <td>Data Scientist</td>\n",
       "      <td>$90 an hour</td>\n",
       "      <td>\\n\\n    Countr\\n</td>\n",
       "    </tr>\n",
       "    <tr>\n",
       "      <th>6</th>\n",
       "      <td>New York, NY 10029 (Yorkville area)</td>\n",
       "      <td>ASSOCIATE RESEARCHER I</td>\n",
       "      <td>$120,000 a year</td>\n",
       "      <td>\\n\\n\\n        Mount Sinai Health System\\n</td>\n",
       "    </tr>\n",
       "    <tr>\n",
       "      <th>7</th>\n",
       "      <td>New York, NY</td>\n",
       "      <td>Cross Asset Quantitative Strategist, Analyst/A...</td>\n",
       "      <td>$120,000 - $150,000 a year</td>\n",
       "      <td>\\n\\n\\n        Goldman Sachs\\n</td>\n",
       "    </tr>\n",
       "    <tr>\n",
       "      <th>8</th>\n",
       "      <td>New York, NY</td>\n",
       "      <td>Data Scientist / Lead Quantitative Analyst</td>\n",
       "      <td>$150,000 - $200,000 a year</td>\n",
       "      <td>\\n\\n\\n        Guidepoint Global\\n</td>\n",
       "    </tr>\n",
       "    <tr>\n",
       "      <th>10</th>\n",
       "      <td>New York, NY</td>\n",
       "      <td>Quantitative Researcher in Machine Learning</td>\n",
       "      <td>$110,000 - $275,000 a year</td>\n",
       "      <td>\\n\\n    Two Sigma Investments, LLC.\\n</td>\n",
       "    </tr>\n",
       "  </tbody>\n",
       "</table>\n",
       "</div>"
      ],
      "text/plain": [
       "                                   city  \\\n",
       "3                          New York, NY   \n",
       "6   New York, NY 10029 (Yorkville area)   \n",
       "7                          New York, NY   \n",
       "8                          New York, NY   \n",
       "10                         New York, NY   \n",
       "\n",
       "                                                  job  \\\n",
       "3                                      Data Scientist   \n",
       "6                              ASSOCIATE RESEARCHER I   \n",
       "7   Cross Asset Quantitative Strategist, Analyst/A...   \n",
       "8          Data Scientist / Lead Quantitative Analyst   \n",
       "10        Quantitative Researcher in Machine Learning   \n",
       "\n",
       "                        salary                                    company  \n",
       "3                  $90 an hour                           \\n\\n    Countr\\n  \n",
       "6              $120,000 a year  \\n\\n\\n        Mount Sinai Health System\\n  \n",
       "7   $120,000 - $150,000 a year              \\n\\n\\n        Goldman Sachs\\n  \n",
       "8   $150,000 - $200,000 a year          \\n\\n\\n        Guidepoint Global\\n  \n",
       "10  $110,000 - $275,000 a year      \\n\\n    Two Sigma Investments, LLC.\\n  "
      ]
     },
     "execution_count": 836,
     "metadata": {},
     "output_type": "execute_result"
    }
   ],
   "source": [
    "listy = []\n",
    "for i in df['job']:\n",
    "    listy.append(str(i.encode('ascii', 'ignore')).split())\n",
    "dicty = {}\n",
    "for idx, i in enumerate(listy):\n",
    "    for j in i:\n",
    "        if '\\\\n' in j:\n",
    "            continue\n",
    "        elif idx not in dicty:\n",
    "            dicty[idx] = str(j.encode('ascii', 'ignore'))\n",
    "        else:\n",
    "            dicty[idx] += ' ' + str(j)\n",
    "listyy = []\n",
    "for i in range(len(dicty)):\n",
    "    listyy.append(dicty[i])\n",
    "df['job'] = listyy\n",
    "df.head()\n",
    "\n"
   ]
  },
  {
   "cell_type": "code",
   "execution_count": 837,
   "metadata": {
    "collapsed": false
   },
   "outputs": [
    {
     "data": {
      "text/html": [
       "<div>\n",
       "<table border=\"1\" class=\"dataframe\">\n",
       "  <thead>\n",
       "    <tr style=\"text-align: right;\">\n",
       "      <th></th>\n",
       "      <th>city</th>\n",
       "      <th>job</th>\n",
       "      <th>salary</th>\n",
       "      <th>company</th>\n",
       "    </tr>\n",
       "  </thead>\n",
       "  <tbody>\n",
       "    <tr>\n",
       "      <th>3</th>\n",
       "      <td>New York, NY</td>\n",
       "      <td>Data Scientist</td>\n",
       "      <td>$90 an hour</td>\n",
       "      <td>Countr</td>\n",
       "    </tr>\n",
       "    <tr>\n",
       "      <th>6</th>\n",
       "      <td>New York, NY 10029 (Yorkville area)</td>\n",
       "      <td>ASSOCIATE RESEARCHER I</td>\n",
       "      <td>$120,000 a year</td>\n",
       "      <td>Mount Sinai Health System</td>\n",
       "    </tr>\n",
       "    <tr>\n",
       "      <th>7</th>\n",
       "      <td>New York, NY</td>\n",
       "      <td>Cross Asset Quantitative Strategist, Analyst/A...</td>\n",
       "      <td>$120,000 - $150,000 a year</td>\n",
       "      <td>Goldman Sachs</td>\n",
       "    </tr>\n",
       "    <tr>\n",
       "      <th>8</th>\n",
       "      <td>New York, NY</td>\n",
       "      <td>Data Scientist / Lead Quantitative Analyst</td>\n",
       "      <td>$150,000 - $200,000 a year</td>\n",
       "      <td>Guidepoint Global</td>\n",
       "    </tr>\n",
       "    <tr>\n",
       "      <th>10</th>\n",
       "      <td>New York, NY</td>\n",
       "      <td>Quantitative Researcher in Machine Learning</td>\n",
       "      <td>$110,000 - $275,000 a year</td>\n",
       "      <td>Two Sigma Investments, LLC.</td>\n",
       "    </tr>\n",
       "  </tbody>\n",
       "</table>\n",
       "</div>"
      ],
      "text/plain": [
       "                                   city  \\\n",
       "3                          New York, NY   \n",
       "6   New York, NY 10029 (Yorkville area)   \n",
       "7                          New York, NY   \n",
       "8                          New York, NY   \n",
       "10                         New York, NY   \n",
       "\n",
       "                                                  job  \\\n",
       "3                                      Data Scientist   \n",
       "6                              ASSOCIATE RESEARCHER I   \n",
       "7   Cross Asset Quantitative Strategist, Analyst/A...   \n",
       "8          Data Scientist / Lead Quantitative Analyst   \n",
       "10        Quantitative Researcher in Machine Learning   \n",
       "\n",
       "                        salary                      company  \n",
       "3                  $90 an hour                       Countr  \n",
       "6              $120,000 a year    Mount Sinai Health System  \n",
       "7   $120,000 - $150,000 a year                Goldman Sachs  \n",
       "8   $150,000 - $200,000 a year            Guidepoint Global  \n",
       "10  $110,000 - $275,000 a year  Two Sigma Investments, LLC.  "
      ]
     },
     "execution_count": 837,
     "metadata": {},
     "output_type": "execute_result"
    }
   ],
   "source": [
    "listy = []\n",
    "for i in df['company']:\n",
    "    listy.append(str(i).split())\n",
    "dicty = {}\n",
    "for idx, i in enumerate(listy):\n",
    "    for j in i:\n",
    "        if '\\\\n' in j:\n",
    "            continue\n",
    "        elif idx not in dicty:\n",
    "            dicty[idx] = str(j)\n",
    "        else:\n",
    "            dicty[idx] += ' ' + str(j)\n",
    "listyy = []\n",
    "for i in range(len(dicty)):\n",
    "    listyy.append(dicty[i])\n",
    "df['company'] = listyy\n",
    "df.head()"
   ]
  },
  {
   "cell_type": "code",
   "execution_count": 838,
   "metadata": {
    "collapsed": false
   },
   "outputs": [
    {
     "data": {
      "text/html": [
       "<div>\n",
       "<table border=\"1\" class=\"dataframe\">\n",
       "  <thead>\n",
       "    <tr style=\"text-align: right;\">\n",
       "      <th></th>\n",
       "      <th>city</th>\n",
       "      <th>job</th>\n",
       "      <th>salary</th>\n",
       "      <th>company</th>\n",
       "    </tr>\n",
       "  </thead>\n",
       "  <tbody>\n",
       "    <tr>\n",
       "      <th>3</th>\n",
       "      <td>New York</td>\n",
       "      <td>Data Scientist</td>\n",
       "      <td>$90 an hour</td>\n",
       "      <td>Countr</td>\n",
       "    </tr>\n",
       "    <tr>\n",
       "      <th>6</th>\n",
       "      <td>New York</td>\n",
       "      <td>ASSOCIATE RESEARCHER I</td>\n",
       "      <td>$120,000 a year</td>\n",
       "      <td>Mount Sinai Health System</td>\n",
       "    </tr>\n",
       "    <tr>\n",
       "      <th>7</th>\n",
       "      <td>New York</td>\n",
       "      <td>Cross Asset Quantitative Strategist, Analyst/A...</td>\n",
       "      <td>$120,000 - $150,000 a year</td>\n",
       "      <td>Goldman Sachs</td>\n",
       "    </tr>\n",
       "    <tr>\n",
       "      <th>8</th>\n",
       "      <td>New York</td>\n",
       "      <td>Data Scientist / Lead Quantitative Analyst</td>\n",
       "      <td>$150,000 - $200,000 a year</td>\n",
       "      <td>Guidepoint Global</td>\n",
       "    </tr>\n",
       "    <tr>\n",
       "      <th>10</th>\n",
       "      <td>New York</td>\n",
       "      <td>Quantitative Researcher in Machine Learning</td>\n",
       "      <td>$110,000 - $275,000 a year</td>\n",
       "      <td>Two Sigma Investments, LLC.</td>\n",
       "    </tr>\n",
       "  </tbody>\n",
       "</table>\n",
       "</div>"
      ],
      "text/plain": [
       "        city                                                job  \\\n",
       "3   New York                                     Data Scientist   \n",
       "6   New York                             ASSOCIATE RESEARCHER I   \n",
       "7   New York  Cross Asset Quantitative Strategist, Analyst/A...   \n",
       "8   New York         Data Scientist / Lead Quantitative Analyst   \n",
       "10  New York        Quantitative Researcher in Machine Learning   \n",
       "\n",
       "                        salary                      company  \n",
       "3                  $90 an hour                       Countr  \n",
       "6              $120,000 a year    Mount Sinai Health System  \n",
       "7   $120,000 - $150,000 a year                Goldman Sachs  \n",
       "8   $150,000 - $200,000 a year            Guidepoint Global  \n",
       "10  $110,000 - $275,000 a year  Two Sigma Investments, LLC.  "
      ]
     },
     "execution_count": 838,
     "metadata": {},
     "output_type": "execute_result"
    }
   ],
   "source": [
    "listy = []\n",
    "for i in df['city']:\n",
    "    listy.append(str(i).split(',')[0])\n",
    "df['city'] = listy\n",
    "df.head()"
   ]
  },
  {
   "cell_type": "markdown",
   "metadata": {
    "focus": false,
    "id": "7d4bc860-b214-4f75-9cd0-b234830b1ec2"
   },
   "source": [
    "#### Write a function that takes a salary string and converts it to a number, averaging a salary range if necessary"
   ]
  },
  {
   "cell_type": "code",
   "execution_count": 839,
   "metadata": {
    "collapsed": false,
    "focus": false,
    "id": "a0f701e0-80bd-40ba-9101-4535860c0968"
   },
   "outputs": [],
   "source": [
    "## YOUR CODE HERE\n",
    "listy = []\n",
    "for i in df['salary']:\n",
    "    listy.append(str(i).replace('$', '').replace(',', '').replace('-', '').replace(' a year', '')\n",
    "                .replace('a week', '').replace('a month', '').replace('an hour', ''))\n",
    "\n",
    "listy = [i.split() for i in listy]\n",
    "num_list = []\n",
    "for idx, i in enumerate(listy):\n",
    "    for j in i:\n",
    "        num_list += [(idx, float(j))]\n",
    "num_list\n",
    "        \n",
    "dicty = {}\n",
    "for j, k in num_list:\n",
    "    if j not in dicty:\n",
    "        dicty[j] = k\n",
    "    else:\n",
    "        dicty[j] += k\n",
    "        dicty[j] /= 2\n",
    "dicty\n",
    "for i in dicty:\n",
    "    if dicty[i] < 100:\n",
    "        dicty[i] *= 2080\n",
    "    elif dicty[i] < 3000:\n",
    "        dicty[i] *= 52\n",
    "    elif dicty[i] < 10000:\n",
    "        dicty[i] *= 12\n",
    "sals = []\n",
    "for i in range(len(dicty)):\n",
    "    sals.append(dicty[i])\n"
   ]
  },
  {
   "cell_type": "code",
   "execution_count": 840,
   "metadata": {
    "collapsed": false
   },
   "outputs": [
    {
     "data": {
      "text/html": [
       "<div>\n",
       "<table border=\"1\" class=\"dataframe\">\n",
       "  <thead>\n",
       "    <tr style=\"text-align: right;\">\n",
       "      <th></th>\n",
       "      <th>city</th>\n",
       "      <th>job</th>\n",
       "      <th>salary</th>\n",
       "      <th>company</th>\n",
       "    </tr>\n",
       "  </thead>\n",
       "  <tbody>\n",
       "    <tr>\n",
       "      <th>3</th>\n",
       "      <td>New York</td>\n",
       "      <td>Data Scientist</td>\n",
       "      <td>187200.0</td>\n",
       "      <td>Countr</td>\n",
       "    </tr>\n",
       "    <tr>\n",
       "      <th>6</th>\n",
       "      <td>New York</td>\n",
       "      <td>ASSOCIATE RESEARCHER I</td>\n",
       "      <td>120000.0</td>\n",
       "      <td>Mount Sinai Health System</td>\n",
       "    </tr>\n",
       "    <tr>\n",
       "      <th>7</th>\n",
       "      <td>New York</td>\n",
       "      <td>Cross Asset Quantitative Strategist, Analyst/A...</td>\n",
       "      <td>135000.0</td>\n",
       "      <td>Goldman Sachs</td>\n",
       "    </tr>\n",
       "    <tr>\n",
       "      <th>8</th>\n",
       "      <td>New York</td>\n",
       "      <td>Data Scientist / Lead Quantitative Analyst</td>\n",
       "      <td>175000.0</td>\n",
       "      <td>Guidepoint Global</td>\n",
       "    </tr>\n",
       "    <tr>\n",
       "      <th>10</th>\n",
       "      <td>New York</td>\n",
       "      <td>Quantitative Researcher in Machine Learning</td>\n",
       "      <td>192500.0</td>\n",
       "      <td>Two Sigma Investments, LLC.</td>\n",
       "    </tr>\n",
       "  </tbody>\n",
       "</table>\n",
       "</div>"
      ],
      "text/plain": [
       "        city                                                job    salary  \\\n",
       "3   New York                                     Data Scientist  187200.0   \n",
       "6   New York                             ASSOCIATE RESEARCHER I  120000.0   \n",
       "7   New York  Cross Asset Quantitative Strategist, Analyst/A...  135000.0   \n",
       "8   New York         Data Scientist / Lead Quantitative Analyst  175000.0   \n",
       "10  New York        Quantitative Researcher in Machine Learning  192500.0   \n",
       "\n",
       "                        company  \n",
       "3                        Countr  \n",
       "6     Mount Sinai Health System  \n",
       "7                 Goldman Sachs  \n",
       "8             Guidepoint Global  \n",
       "10  Two Sigma Investments, LLC.  "
      ]
     },
     "execution_count": 840,
     "metadata": {},
     "output_type": "execute_result"
    }
   ],
   "source": [
    "df['salary'] = sals\n",
    "df.head()"
   ]
  },
  {
   "cell_type": "markdown",
   "metadata": {
    "collapsed": false,
    "focus": false,
    "id": "43e71edd-210e-42b1-9336-70a931f048af"
   },
   "source": [
    "### Save your results as a CSV"
   ]
  },
  {
   "cell_type": "code",
   "execution_count": 841,
   "metadata": {
    "collapsed": false,
    "focus": false,
    "id": "783fd153-28ac-47ab-bfca-27e7c1de95b4"
   },
   "outputs": [],
   "source": [
    "## YOUR CODE HERE\n",
    "df.to_csv('Salary_Data2')"
   ]
  },
  {
   "cell_type": "markdown",
   "metadata": {
    "focus": false,
    "id": "04563b69-f7b6-466f-9d65-fc62c9ddee6a"
   },
   "source": [
    "## Predicting salaries using Logistic Regression"
   ]
  },
  {
   "cell_type": "markdown",
   "metadata": {
    "focus": false,
    "id": "243e949e-2742-40af-872e-fec475fd306c"
   },
   "source": [
    "#### Load in the the data of scraped salaries"
   ]
  },
  {
   "cell_type": "code",
   "execution_count": 842,
   "metadata": {
    "collapsed": false,
    "focus": false,
    "id": "588f9845-6143-4bcc-bfd1-85d45b79303d"
   },
   "outputs": [],
   "source": [
    "## YOUR CODE HERE\n",
    "## But they're already here :(\n"
   ]
  },
  {
   "cell_type": "markdown",
   "metadata": {
    "focus": false,
    "id": "c7631f51-07f2-4c79-a093-3e9bc7849a48"
   },
   "source": [
    "#### We want to predict a binary variable - whether the salary was low or high. Compute the median salary and create a new binary variable that is true when the salary is high (above the median)\n",
    "\n",
    "We could also perform Linear Regression (or any regression) to predict the salary value here. Instead, we are going to convert this into a _binary_ classification problem, by predicting two classes, HIGH vs LOW salary.\n",
    "\n",
    "While performing regression may be better, performing classification may help remove some of the noise of the extreme salaries. We don't have to choice the `median` as the splitting point - we could also split on the 75th percentile or any other reasonable breaking point.\n",
    "\n",
    "In fact, the ideal scenario may be to predict many levels of salaries, "
   ]
  },
  {
   "cell_type": "code",
   "execution_count": 843,
   "metadata": {
    "collapsed": false
   },
   "outputs": [
    {
     "data": {
      "text/html": [
       "<div>\n",
       "<table border=\"1\" class=\"dataframe\">\n",
       "  <thead>\n",
       "    <tr style=\"text-align: right;\">\n",
       "      <th></th>\n",
       "      <th>city</th>\n",
       "      <th>job</th>\n",
       "      <th>salary</th>\n",
       "      <th>company</th>\n",
       "    </tr>\n",
       "  </thead>\n",
       "  <tbody>\n",
       "    <tr>\n",
       "      <th>3</th>\n",
       "      <td>New York</td>\n",
       "      <td>Data Scientist</td>\n",
       "      <td>187200.0</td>\n",
       "      <td>Countr</td>\n",
       "    </tr>\n",
       "    <tr>\n",
       "      <th>6</th>\n",
       "      <td>New York</td>\n",
       "      <td>ASSOCIATE RESEARCHER I</td>\n",
       "      <td>120000.0</td>\n",
       "      <td>Mount Sinai Health System</td>\n",
       "    </tr>\n",
       "    <tr>\n",
       "      <th>7</th>\n",
       "      <td>New York</td>\n",
       "      <td>Cross Asset Quantitative Strategist, Analyst/A...</td>\n",
       "      <td>135000.0</td>\n",
       "      <td>Goldman Sachs</td>\n",
       "    </tr>\n",
       "    <tr>\n",
       "      <th>8</th>\n",
       "      <td>New York</td>\n",
       "      <td>Data Scientist / Lead Quantitative Analyst</td>\n",
       "      <td>175000.0</td>\n",
       "      <td>Guidepoint Global</td>\n",
       "    </tr>\n",
       "    <tr>\n",
       "      <th>10</th>\n",
       "      <td>New York</td>\n",
       "      <td>Quantitative Researcher in Machine Learning</td>\n",
       "      <td>192500.0</td>\n",
       "      <td>Two Sigma Investments, LLC.</td>\n",
       "    </tr>\n",
       "  </tbody>\n",
       "</table>\n",
       "</div>"
      ],
      "text/plain": [
       "        city                                                job    salary  \\\n",
       "3   New York                                     Data Scientist  187200.0   \n",
       "6   New York                             ASSOCIATE RESEARCHER I  120000.0   \n",
       "7   New York  Cross Asset Quantitative Strategist, Analyst/A...  135000.0   \n",
       "8   New York         Data Scientist / Lead Quantitative Analyst  175000.0   \n",
       "10  New York        Quantitative Researcher in Machine Learning  192500.0   \n",
       "\n",
       "                        company  \n",
       "3                        Countr  \n",
       "6     Mount Sinai Health System  \n",
       "7                 Goldman Sachs  \n",
       "8             Guidepoint Global  \n",
       "10  Two Sigma Investments, LLC.  "
      ]
     },
     "execution_count": 843,
     "metadata": {},
     "output_type": "execute_result"
    }
   ],
   "source": [
    "df.head()"
   ]
  },
  {
   "cell_type": "code",
   "execution_count": 844,
   "metadata": {
    "collapsed": false,
    "focus": false,
    "id": "c20d2498-151c-44c3-a453-3a333c79a0ac"
   },
   "outputs": [],
   "source": [
    "## YOUR CODE HERE\n",
    "import numpy as np\n",
    "frst_q = df['salary'].quantile(.25)\n",
    "med = np.median(df['salary'])\n",
    "thrd_q = df['salary'].quantile(.75)\n",
    "highness = []\n",
    "for i in df['salary']:\n",
    "    if i < frst_q:\n",
    "        highness.append('very_low')\n",
    "    elif i < med:\n",
    "        highness.append('low')\n",
    "    elif i < thrd_q:\n",
    "        highness.append('high')\n",
    "    else:\n",
    "        highness.append('very_high')\n",
    "df['highness'] = highness\n",
    "df.head()\n",
    "\n",
    "listy = []\n",
    "for i in df['salary']:\n",
    "    if i < med:\n",
    "        listy.append(1)\n",
    "    else:\n",
    "        listy.append(0)\n",
    "df['is_high'] = listy"
   ]
  },
  {
   "cell_type": "markdown",
   "metadata": {
    "focus": false,
    "id": "a7afb2c0-d41e-4779-8216-91cd8dd4473f"
   },
   "source": [
    "#### Thought experiment: What is the baseline accuracy for this model?"
   ]
  },
  {
   "cell_type": "code",
   "execution_count": 851,
   "metadata": {
    "collapsed": false,
    "focus": false,
    "id": "87a17d3d-b7f4-4747-9f75-f9af1d18a174"
   },
   "outputs": [
    {
     "name": "stdout",
     "output_type": "stream",
     "text": [
      "low          44\n",
      "very_high    43\n",
      "high         42\n",
      "very_low     40\n",
      "Name: highness, dtype: int64 \n",
      "\n",
      "The baseline accuracy is 0.260355029586\n"
     ]
    }
   ],
   "source": [
    "## YOUR CODE HERE\n",
    "# The baseline for this model would be the most frequent observation for all outcomes:\n",
    "print df['highness'].value_counts(), '\\n'\n",
    "print 'The baseline accuracy is', 44.0 / 169"
   ]
  },
  {
   "cell_type": "markdown",
   "metadata": {
    "focus": false,
    "id": "4fb29de2-5b98-474c-a4ad-5170b72b9aea"
   },
   "source": [
    "#### Create a Logistic Regression model to predict High/Low salary using statsmodel. Start by ONLY using the location as a feature. Display the coefficients and write a short summary of what they mean."
   ]
  },
  {
   "cell_type": "code",
   "execution_count": 852,
   "metadata": {
    "collapsed": false,
    "scrolled": true
   },
   "outputs": [
    {
     "name": "stdout",
     "output_type": "stream",
     "text": [
      "Warning: Maximum number of iterations has been exceeded.\n",
      "         Current function value: 1.444789\n",
      "         Iterations: 35\n"
     ]
    },
    {
     "name": "stderr",
     "output_type": "stream",
     "text": [
      "//anaconda/lib/python2.7/site-packages/statsmodels/base/model.py:466: ConvergenceWarning: Maximum Likelihood optimization failed to converge. Check mle_retvals\n",
      "  \"Check mle_retvals\", ConvergenceWarning)\n"
     ]
    },
    {
     "data": {
      "text/html": [
       "<table class=\"simpletable\">\n",
       "<caption>Logit Regression Results</caption>\n",
       "<tr>\n",
       "  <th>Dep. Variable:</th>      <td>is_high</td>     <th>  No. Observations:  </th>  <td>   169</td> \n",
       "</tr>\n",
       "<tr>\n",
       "  <th>Model:</th>               <td>Logit</td>      <th>  Df Residuals:      </th>  <td>   110</td> \n",
       "</tr>\n",
       "<tr>\n",
       "  <th>Method:</th>               <td>MLE</td>       <th>  Df Model:          </th>  <td>    58</td> \n",
       "</tr>\n",
       "<tr>\n",
       "  <th>Date:</th>          <td>Sun, 30 Oct 2016</td> <th>  Pseudo R-squ.:     </th>  <td>-1.084</td> \n",
       "</tr>\n",
       "<tr>\n",
       "  <th>Time:</th>              <td>16:38:40</td>     <th>  Log-Likelihood:    </th> <td> -244.17</td>\n",
       "</tr>\n",
       "<tr>\n",
       "  <th>converged:</th>           <td>False</td>      <th>  LL-Null:           </th> <td> -117.14</td>\n",
       "</tr>\n",
       "<tr>\n",
       "  <th> </th>                      <td> </td>        <th>  LLR p-value:       </th>  <td> 1.000</td> \n",
       "</tr>\n",
       "</table>\n",
       "<table class=\"simpletable\">\n",
       "<tr>\n",
       "                <td></td>                   <th>coef</th>     <th>std err</th>      <th>z</th>      <th>P>|z|</th> <th>[95.0% Conf. Int.]</th> \n",
       "</tr>\n",
       "<tr>\n",
       "  <th>Intercept</th>                     <td>   -4.7035</td> <td>   10.599</td> <td>   -0.444</td> <td> 0.657</td> <td>  -25.477    16.070</td>\n",
       "</tr>\n",
       "<tr>\n",
       "  <th>city[T.Alpharetta]</th>            <td>    5.7746</td> <td>   10.722</td> <td>    0.539</td> <td> 0.590</td> <td>  -15.241    26.790</td>\n",
       "</tr>\n",
       "<tr>\n",
       "  <th>city[T.Atlanta]</th>               <td>    4.2980</td> <td>   10.638</td> <td>    0.404</td> <td> 0.686</td> <td>  -16.553    25.149</td>\n",
       "</tr>\n",
       "<tr>\n",
       "  <th>city[T.Aurora]</th>                <td>    4.7035</td> <td>   10.693</td> <td>    0.440</td> <td> 0.660</td> <td>  -16.254    25.661</td>\n",
       "</tr>\n",
       "<tr>\n",
       "  <th>city[T.Austin]</th>                <td>    4.8858</td> <td>   10.616</td> <td>    0.460</td> <td> 0.645</td> <td>  -15.922    25.693</td>\n",
       "</tr>\n",
       "<tr>\n",
       "  <th>city[T.Aventura]</th>              <td>    2.3771</td> <td>   11.166</td> <td>    0.213</td> <td> 0.831</td> <td>  -19.508    24.262</td>\n",
       "</tr>\n",
       "<tr>\n",
       "  <th>city[T.Bellevue]</th>              <td>  -41.4587</td> <td> 1.06e+10</td> <td>-3.92e-09</td> <td> 1.000</td> <td>-2.07e+10  2.07e+10</td>\n",
       "</tr>\n",
       "<tr>\n",
       "  <th>city[T.Berkeley]</th>              <td>  -41.4588</td> <td> 1.06e+10</td> <td>-3.92e-09</td> <td> 1.000</td> <td>-2.07e+10  2.07e+10</td>\n",
       "</tr>\n",
       "<tr>\n",
       "  <th>city[T.Boulder]</th>               <td>    4.7035</td> <td>   10.693</td> <td>    0.440</td> <td> 0.660</td> <td>  -16.254    25.661</td>\n",
       "</tr>\n",
       "<tr>\n",
       "  <th>city[T.Brea]</th>                  <td>    2.3771</td> <td>   11.166</td> <td>    0.213</td> <td> 0.831</td> <td>  -19.508    24.262</td>\n",
       "</tr>\n",
       "<tr>\n",
       "  <th>city[T.Brisbane]</th>              <td>  -41.4587</td> <td> 1.06e+10</td> <td>-3.92e-09</td> <td> 1.000</td> <td>-2.07e+10  2.07e+10</td>\n",
       "</tr>\n",
       "<tr>\n",
       "  <th>city[T.Canoga Park]</th>           <td>  -41.4587</td> <td> 1.06e+10</td> <td>-3.92e-09</td> <td> 1.000</td> <td>-2.07e+10  2.07e+10</td>\n",
       "</tr>\n",
       "<tr>\n",
       "  <th>city[T.Chicago]</th>               <td>    3.7480</td> <td>   10.612</td> <td>    0.353</td> <td> 0.724</td> <td>  -17.051    24.547</td>\n",
       "</tr>\n",
       "<tr>\n",
       "  <th>city[T.Coppell]</th>               <td>    2.3771</td> <td>   11.166</td> <td>    0.213</td> <td> 0.831</td> <td>  -19.508    24.262</td>\n",
       "</tr>\n",
       "<tr>\n",
       "  <th>city[T.Coral Gables]</th>          <td>    2.3771</td> <td>   11.166</td> <td>    0.213</td> <td> 0.831</td> <td>  -19.508    24.262</td>\n",
       "</tr>\n",
       "<tr>\n",
       "  <th>city[T.Dallas]</th>                <td>    5.7746</td> <td>   10.722</td> <td>    0.539</td> <td> 0.590</td> <td>  -15.241    26.790</td>\n",
       "</tr>\n",
       "<tr>\n",
       "  <th>city[T.Dania Beach]</th>           <td>    2.3771</td> <td>   11.166</td> <td>    0.213</td> <td> 0.831</td> <td>  -19.508    24.262</td>\n",
       "</tr>\n",
       "<tr>\n",
       "  <th>city[T.Denver]</th>                <td>    4.0103</td> <td>   10.670</td> <td>    0.376</td> <td> 0.707</td> <td>  -16.902    24.922</td>\n",
       "</tr>\n",
       "<tr>\n",
       "  <th>city[T.Downers Grove]</th>         <td>  -41.4588</td> <td> 1.06e+10</td> <td>-3.92e-09</td> <td> 1.000</td> <td>-2.07e+10  2.07e+10</td>\n",
       "</tr>\n",
       "<tr>\n",
       "  <th>city[T.Duarte]</th>                <td>    2.3771</td> <td>   11.166</td> <td>    0.213</td> <td> 0.831</td> <td>  -19.508    24.262</td>\n",
       "</tr>\n",
       "<tr>\n",
       "  <th>city[T.El Segundo]</th>            <td>    4.7035</td> <td>   10.693</td> <td>    0.440</td> <td> 0.660</td> <td>  -16.254    25.661</td>\n",
       "</tr>\n",
       "<tr>\n",
       "  <th>city[T.Emeryville]</th>            <td>    2.3771</td> <td>   11.166</td> <td>    0.213</td> <td> 0.831</td> <td>  -19.508    24.262</td>\n",
       "</tr>\n",
       "<tr>\n",
       "  <th>city[T.Englewood]</th>             <td>  -41.4587</td> <td> 1.06e+10</td> <td>-3.92e-09</td> <td> 1.000</td> <td>-2.07e+10  2.07e+10</td>\n",
       "</tr>\n",
       "<tr>\n",
       "  <th>city[T.Fort Lauderdale]</th>       <td>    5.3966</td> <td>   10.670</td> <td>    0.506</td> <td> 0.613</td> <td>  -15.515    26.309</td>\n",
       "</tr>\n",
       "<tr>\n",
       "  <th>city[T.Hinsdale]</th>              <td>    2.3771</td> <td>   11.166</td> <td>    0.213</td> <td> 0.831</td> <td>  -19.508    24.262</td>\n",
       "</tr>\n",
       "<tr>\n",
       "  <th>city[T.Houston]</th>               <td>    4.7035</td> <td>   10.630</td> <td>    0.442</td> <td> 0.658</td> <td>  -16.132    25.539</td>\n",
       "</tr>\n",
       "<tr>\n",
       "  <th>city[T.Huntington Beach]</th>      <td>    2.3771</td> <td>   11.166</td> <td>    0.213</td> <td> 0.831</td> <td>  -19.508    24.262</td>\n",
       "</tr>\n",
       "<tr>\n",
       "  <th>city[T.Irving]</th>                <td>    4.7035</td> <td>   10.693</td> <td>    0.440</td> <td> 0.660</td> <td>  -16.254    25.661</td>\n",
       "</tr>\n",
       "<tr>\n",
       "  <th>city[T.Kennesaw]</th>              <td>    2.3771</td> <td>   11.166</td> <td>    0.213</td> <td> 0.831</td> <td>  -19.508    24.262</td>\n",
       "</tr>\n",
       "<tr>\n",
       "  <th>city[T.Los Angeles]</th>           <td>    4.7035</td> <td>   10.618</td> <td>    0.443</td> <td> 0.658</td> <td>  -16.107    25.514</td>\n",
       "</tr>\n",
       "<tr>\n",
       "  <th>city[T.Malvern]</th>               <td>  -41.4587</td> <td> 1.06e+10</td> <td>-3.92e-09</td> <td> 1.000</td> <td>-2.07e+10  2.07e+10</td>\n",
       "</tr>\n",
       "<tr>\n",
       "  <th>city[T.Manhattan]</th>             <td>  -41.4587</td> <td> 1.06e+10</td> <td>-3.92e-09</td> <td> 1.000</td> <td>-2.07e+10  2.07e+10</td>\n",
       "</tr>\n",
       "<tr>\n",
       "  <th>city[T.Miami]</th>                 <td>    5.7746</td> <td>   10.722</td> <td>    0.539</td> <td> 0.590</td> <td>  -15.241    26.790</td>\n",
       "</tr>\n",
       "<tr>\n",
       "  <th>city[T.Miramar]</th>               <td>    2.3771</td> <td>   11.166</td> <td>    0.213</td> <td> 0.831</td> <td>  -19.508    24.262</td>\n",
       "</tr>\n",
       "<tr>\n",
       "  <th>city[T.New York]</th>              <td>    3.1994</td> <td>   10.613</td> <td>    0.301</td> <td> 0.763</td> <td>  -17.603    24.001</td>\n",
       "</tr>\n",
       "<tr>\n",
       "  <th>city[T.Newtown Square]</th>        <td>    2.3771</td> <td>   11.166</td> <td>    0.213</td> <td> 0.831</td> <td>  -19.508    24.262</td>\n",
       "</tr>\n",
       "<tr>\n",
       "  <th>city[T.Norcross]</th>              <td>    2.3771</td> <td>   11.166</td> <td>    0.213</td> <td> 0.831</td> <td>  -19.508    24.262</td>\n",
       "</tr>\n",
       "<tr>\n",
       "  <th>city[T.North Wales]</th>           <td>  -41.4587</td> <td> 1.06e+10</td> <td>-3.92e-09</td> <td> 1.000</td> <td>-2.07e+10  2.07e+10</td>\n",
       "</tr>\n",
       "<tr>\n",
       "  <th>city[T.Northbrook]</th>            <td>    4.7035</td> <td>   10.693</td> <td>    0.440</td> <td> 0.660</td> <td>  -16.254    25.661</td>\n",
       "</tr>\n",
       "<tr>\n",
       "  <th>city[T.Pearland]</th>              <td>    2.3771</td> <td>   11.166</td> <td>    0.213</td> <td> 0.831</td> <td>  -19.508    24.262</td>\n",
       "</tr>\n",
       "<tr>\n",
       "  <th>city[T.Philadelphia]</th>          <td>    5.3966</td> <td>   10.634</td> <td>    0.507</td> <td> 0.612</td> <td>  -15.446    26.240</td>\n",
       "</tr>\n",
       "<tr>\n",
       "  <th>city[T.Phoenix]</th>               <td>    5.8021</td> <td>   10.662</td> <td>    0.544</td> <td> 0.586</td> <td>  -15.095    26.699</td>\n",
       "</tr>\n",
       "<tr>\n",
       "  <th>city[T.Pittsburgh]</th>            <td>  -34.8664</td> <td> 2.26e+08</td> <td>-1.54e-07</td> <td> 1.000</td> <td>-4.43e+08  4.43e+08</td>\n",
       "</tr>\n",
       "<tr>\n",
       "  <th>city[T.Plano]</th>                 <td>    2.3771</td> <td>   11.166</td> <td>    0.213</td> <td> 0.831</td> <td>  -19.508    24.262</td>\n",
       "</tr>\n",
       "<tr>\n",
       "  <th>city[T.Portland]</th>              <td>    5.7746</td> <td>   10.722</td> <td>    0.539</td> <td> 0.590</td> <td>  -15.241    26.790</td>\n",
       "</tr>\n",
       "<tr>\n",
       "  <th>city[T.Rahway]</th>                <td>  -41.4587</td> <td> 1.06e+10</td> <td>-3.92e-09</td> <td> 1.000</td> <td>-2.07e+10  2.07e+10</td>\n",
       "</tr>\n",
       "<tr>\n",
       "  <th>city[T.Redmond]</th>               <td>    4.7035</td> <td>   10.693</td> <td>    0.440</td> <td> 0.660</td> <td>  -16.254    25.661</td>\n",
       "</tr>\n",
       "<tr>\n",
       "  <th>city[T.Redwood City]</th>          <td>  -41.4587</td> <td> 1.06e+10</td> <td>-3.92e-09</td> <td> 1.000</td> <td>-2.07e+10  2.07e+10</td>\n",
       "</tr>\n",
       "<tr>\n",
       "  <th>city[T.San Bruno]</th>             <td>  -41.4587</td> <td> 1.06e+10</td> <td>-3.92e-09</td> <td> 1.000</td> <td>-2.07e+10  2.07e+10</td>\n",
       "</tr>\n",
       "<tr>\n",
       "  <th>city[T.San Francisco]</th>         <td>    4.0103</td> <td>   10.634</td> <td>    0.377</td> <td> 0.706</td> <td>  -16.833    24.853</td>\n",
       "</tr>\n",
       "<tr>\n",
       "  <th>city[T.Seattle]</th>               <td>    5.2913</td> <td>   10.614</td> <td>    0.499</td> <td> 0.618</td> <td>  -15.511    26.094</td>\n",
       "</tr>\n",
       "<tr>\n",
       "  <th>city[T.Smyrna]</th>                <td>    2.3771</td> <td>   11.166</td> <td>    0.213</td> <td> 0.831</td> <td>  -19.508    24.262</td>\n",
       "</tr>\n",
       "<tr>\n",
       "  <th>city[T.South San Francisco]</th>   <td>  -41.4587</td> <td> 1.06e+10</td> <td>-3.92e-09</td> <td> 1.000</td> <td>-2.07e+10  2.07e+10</td>\n",
       "</tr>\n",
       "<tr>\n",
       "  <th>city[T.Spring House]</th>          <td>  -41.4587</td> <td> 1.06e+10</td> <td>-3.92e-09</td> <td> 1.000</td> <td>-2.07e+10  2.07e+10</td>\n",
       "</tr>\n",
       "<tr>\n",
       "  <th>city[T.Tempe]</th>                 <td>    5.7746</td> <td>   10.722</td> <td>    0.539</td> <td> 0.590</td> <td>  -15.241    26.790</td>\n",
       "</tr>\n",
       "<tr>\n",
       "  <th>city[T.Township of Cranberry]</th> <td>    2.3771</td> <td>   11.166</td> <td>    0.213</td> <td> 0.831</td> <td>  -19.508    24.262</td>\n",
       "</tr>\n",
       "<tr>\n",
       "  <th>city[T.West Chester]</th>          <td>  -41.4587</td> <td> 1.06e+10</td> <td>-3.92e-09</td> <td> 1.000</td> <td>-2.07e+10  2.07e+10</td>\n",
       "</tr>\n",
       "<tr>\n",
       "  <th>city[T.West Point]</th>            <td> -413.9258</td> <td> 5.67e+90</td> <td> -7.3e-89</td> <td> 1.000</td> <td>-1.11e+91  1.11e+91</td>\n",
       "</tr>\n",
       "<tr>\n",
       "  <th>city[T.Westminster]</th>           <td>    2.3771</td> <td>   11.166</td> <td>    0.213</td> <td> 0.831</td> <td>  -19.508    24.262</td>\n",
       "</tr>\n",
       "</table>"
      ],
      "text/plain": [
       "<class 'statsmodels.iolib.summary.Summary'>\n",
       "\"\"\"\n",
       "                           Logit Regression Results                           \n",
       "==============================================================================\n",
       "Dep. Variable:                is_high   No. Observations:                  169\n",
       "Model:                          Logit   Df Residuals:                      110\n",
       "Method:                           MLE   Df Model:                           58\n",
       "Date:                Sun, 30 Oct 2016   Pseudo R-squ.:                  -1.084\n",
       "Time:                        16:38:40   Log-Likelihood:                -244.17\n",
       "converged:                      False   LL-Null:                       -117.14\n",
       "                                        LLR p-value:                     1.000\n",
       "=================================================================================================\n",
       "                                    coef    std err          z      P>|z|      [95.0% Conf. Int.]\n",
       "-------------------------------------------------------------------------------------------------\n",
       "Intercept                        -4.7035     10.599     -0.444      0.657       -25.477    16.070\n",
       "city[T.Alpharetta]                5.7746     10.722      0.539      0.590       -15.241    26.790\n",
       "city[T.Atlanta]                   4.2980     10.638      0.404      0.686       -16.553    25.149\n",
       "city[T.Aurora]                    4.7035     10.693      0.440      0.660       -16.254    25.661\n",
       "city[T.Austin]                    4.8858     10.616      0.460      0.645       -15.922    25.693\n",
       "city[T.Aventura]                  2.3771     11.166      0.213      0.831       -19.508    24.262\n",
       "city[T.Bellevue]                -41.4587   1.06e+10  -3.92e-09      1.000     -2.07e+10  2.07e+10\n",
       "city[T.Berkeley]                -41.4588   1.06e+10  -3.92e-09      1.000     -2.07e+10  2.07e+10\n",
       "city[T.Boulder]                   4.7035     10.693      0.440      0.660       -16.254    25.661\n",
       "city[T.Brea]                      2.3771     11.166      0.213      0.831       -19.508    24.262\n",
       "city[T.Brisbane]                -41.4587   1.06e+10  -3.92e-09      1.000     -2.07e+10  2.07e+10\n",
       "city[T.Canoga Park]             -41.4587   1.06e+10  -3.92e-09      1.000     -2.07e+10  2.07e+10\n",
       "city[T.Chicago]                   3.7480     10.612      0.353      0.724       -17.051    24.547\n",
       "city[T.Coppell]                   2.3771     11.166      0.213      0.831       -19.508    24.262\n",
       "city[T.Coral Gables]              2.3771     11.166      0.213      0.831       -19.508    24.262\n",
       "city[T.Dallas]                    5.7746     10.722      0.539      0.590       -15.241    26.790\n",
       "city[T.Dania Beach]               2.3771     11.166      0.213      0.831       -19.508    24.262\n",
       "city[T.Denver]                    4.0103     10.670      0.376      0.707       -16.902    24.922\n",
       "city[T.Downers Grove]           -41.4588   1.06e+10  -3.92e-09      1.000     -2.07e+10  2.07e+10\n",
       "city[T.Duarte]                    2.3771     11.166      0.213      0.831       -19.508    24.262\n",
       "city[T.El Segundo]                4.7035     10.693      0.440      0.660       -16.254    25.661\n",
       "city[T.Emeryville]                2.3771     11.166      0.213      0.831       -19.508    24.262\n",
       "city[T.Englewood]               -41.4587   1.06e+10  -3.92e-09      1.000     -2.07e+10  2.07e+10\n",
       "city[T.Fort Lauderdale]           5.3966     10.670      0.506      0.613       -15.515    26.309\n",
       "city[T.Hinsdale]                  2.3771     11.166      0.213      0.831       -19.508    24.262\n",
       "city[T.Houston]                   4.7035     10.630      0.442      0.658       -16.132    25.539\n",
       "city[T.Huntington Beach]          2.3771     11.166      0.213      0.831       -19.508    24.262\n",
       "city[T.Irving]                    4.7035     10.693      0.440      0.660       -16.254    25.661\n",
       "city[T.Kennesaw]                  2.3771     11.166      0.213      0.831       -19.508    24.262\n",
       "city[T.Los Angeles]               4.7035     10.618      0.443      0.658       -16.107    25.514\n",
       "city[T.Malvern]                 -41.4587   1.06e+10  -3.92e-09      1.000     -2.07e+10  2.07e+10\n",
       "city[T.Manhattan]               -41.4587   1.06e+10  -3.92e-09      1.000     -2.07e+10  2.07e+10\n",
       "city[T.Miami]                     5.7746     10.722      0.539      0.590       -15.241    26.790\n",
       "city[T.Miramar]                   2.3771     11.166      0.213      0.831       -19.508    24.262\n",
       "city[T.New York]                  3.1994     10.613      0.301      0.763       -17.603    24.001\n",
       "city[T.Newtown Square]            2.3771     11.166      0.213      0.831       -19.508    24.262\n",
       "city[T.Norcross]                  2.3771     11.166      0.213      0.831       -19.508    24.262\n",
       "city[T.North Wales]             -41.4587   1.06e+10  -3.92e-09      1.000     -2.07e+10  2.07e+10\n",
       "city[T.Northbrook]                4.7035     10.693      0.440      0.660       -16.254    25.661\n",
       "city[T.Pearland]                  2.3771     11.166      0.213      0.831       -19.508    24.262\n",
       "city[T.Philadelphia]              5.3966     10.634      0.507      0.612       -15.446    26.240\n",
       "city[T.Phoenix]                   5.8021     10.662      0.544      0.586       -15.095    26.699\n",
       "city[T.Pittsburgh]              -34.8664   2.26e+08  -1.54e-07      1.000     -4.43e+08  4.43e+08\n",
       "city[T.Plano]                     2.3771     11.166      0.213      0.831       -19.508    24.262\n",
       "city[T.Portland]                  5.7746     10.722      0.539      0.590       -15.241    26.790\n",
       "city[T.Rahway]                  -41.4587   1.06e+10  -3.92e-09      1.000     -2.07e+10  2.07e+10\n",
       "city[T.Redmond]                   4.7035     10.693      0.440      0.660       -16.254    25.661\n",
       "city[T.Redwood City]            -41.4587   1.06e+10  -3.92e-09      1.000     -2.07e+10  2.07e+10\n",
       "city[T.San Bruno]               -41.4587   1.06e+10  -3.92e-09      1.000     -2.07e+10  2.07e+10\n",
       "city[T.San Francisco]             4.0103     10.634      0.377      0.706       -16.833    24.853\n",
       "city[T.Seattle]                   5.2913     10.614      0.499      0.618       -15.511    26.094\n",
       "city[T.Smyrna]                    2.3771     11.166      0.213      0.831       -19.508    24.262\n",
       "city[T.South San Francisco]     -41.4587   1.06e+10  -3.92e-09      1.000     -2.07e+10  2.07e+10\n",
       "city[T.Spring House]            -41.4587   1.06e+10  -3.92e-09      1.000     -2.07e+10  2.07e+10\n",
       "city[T.Tempe]                     5.7746     10.722      0.539      0.590       -15.241    26.790\n",
       "city[T.Township of Cranberry]     2.3771     11.166      0.213      0.831       -19.508    24.262\n",
       "city[T.West Chester]            -41.4587   1.06e+10  -3.92e-09      1.000     -2.07e+10  2.07e+10\n",
       "city[T.West Point]             -413.9258   5.67e+90   -7.3e-89      1.000     -1.11e+91  1.11e+91\n",
       "city[T.Westminster]               2.3771     11.166      0.213      0.831       -19.508    24.262\n",
       "=================================================================================================\n",
       "\"\"\""
      ]
     },
     "execution_count": 852,
     "metadata": {},
     "output_type": "execute_result"
    }
   ],
   "source": [
    "import statsmodels.formula.api as sm\n",
    "model = sm.logit(\n",
    "    \"is_high ~ city\",\n",
    "    data = df\n",
    ").fit()\n",
    "\n",
    "model.summary()\n"
   ]
  },
  {
   "cell_type": "markdown",
   "metadata": {},
   "source": [
    "The coefficients are essentially the weight that the model is giving to each variable.  Technically, the coefficients are the log of the odds that, when combined with the intercept, can give the formula for the probability of the salary being high or not for the particular city.  The odds ratio derived from the coefficient can also tell you the multiplicative increase or decrease in odds of the salary being high or low in each city."
   ]
  },
  {
   "cell_type": "markdown",
   "metadata": {
    "focus": false,
    "id": "0ef04f32-419c-4bf2-baf7-48201f03df89"
   },
   "source": [
    "#### Create a few new variables in your dataframe to represent interesting features of a job title.\n",
    "- For example, create a feature that represents whether 'Senior' is in the title \n",
    "- or whether 'Manager' is in the title. \n",
    "- Then build a new Logistic Regression model with these features. Do they add any value? \n"
   ]
  },
  {
   "cell_type": "code",
   "execution_count": 853,
   "metadata": {
    "collapsed": false,
    "focus": false,
    "id": "068dc1cf-7fd7-4f27-a1f1-7f0a5a221d29",
    "scrolled": false
   },
   "outputs": [],
   "source": [
    "## YOUR CODE HERE\n",
    "def new_var(word):    \n",
    "    sen = []\n",
    "    for i in df['job']:\n",
    "        if word in i.lower():\n",
    "            sen.append(1)\n",
    "        else:\n",
    "            sen.append(0)\n",
    "    df[word] = sen\n",
    "\n",
    "words = ['manager', 'senior', 'research', 'machine',\n",
    "         'python', 'developer', 'analyst', 'scientist']\n",
    "for i in words:\n",
    "    new_var(i)\n"
   ]
  },
  {
   "cell_type": "code",
   "execution_count": 854,
   "metadata": {
    "collapsed": false,
    "scrolled": true
   },
   "outputs": [
    {
     "name": "stdout",
     "output_type": "stream",
     "text": [
      "Warning: Maximum number of iterations has been exceeded.\n",
      "         Current function value: 0.406682\n",
      "         Iterations: 35\n"
     ]
    },
    {
     "name": "stderr",
     "output_type": "stream",
     "text": [
      "//anaconda/lib/python2.7/site-packages/statsmodels/base/model.py:466: ConvergenceWarning: Maximum Likelihood optimization failed to converge. Check mle_retvals\n",
      "  \"Check mle_retvals\", ConvergenceWarning)\n"
     ]
    },
    {
     "data": {
      "text/html": [
       "<table class=\"simpletable\">\n",
       "<caption>Logit Regression Results</caption>\n",
       "<tr>\n",
       "  <th>Dep. Variable:</th>      <td>is_high</td>     <th>  No. Observations:  </th>  <td>   169</td> \n",
       "</tr>\n",
       "<tr>\n",
       "  <th>Model:</th>               <td>Logit</td>      <th>  Df Residuals:      </th>  <td>   103</td> \n",
       "</tr>\n",
       "<tr>\n",
       "  <th>Method:</th>               <td>MLE</td>       <th>  Df Model:          </th>  <td>    65</td> \n",
       "</tr>\n",
       "<tr>\n",
       "  <th>Date:</th>          <td>Sun, 30 Oct 2016</td> <th>  Pseudo R-squ.:     </th>  <td>0.4133</td> \n",
       "</tr>\n",
       "<tr>\n",
       "  <th>Time:</th>              <td>16:38:48</td>     <th>  Log-Likelihood:    </th> <td> -68.729</td>\n",
       "</tr>\n",
       "<tr>\n",
       "  <th>converged:</th>           <td>False</td>      <th>  LL-Null:           </th> <td> -117.14</td>\n",
       "</tr>\n",
       "<tr>\n",
       "  <th> </th>                      <td> </td>        <th>  LLR p-value:       </th> <td>0.006397</td>\n",
       "</tr>\n",
       "</table>\n",
       "<table class=\"simpletable\">\n",
       "<tr>\n",
       "                <td></td>                   <th>coef</th>     <th>std err</th>      <th>z</th>      <th>P>|z|</th> <th>[95.0% Conf. Int.]</th> \n",
       "</tr>\n",
       "<tr>\n",
       "  <th>Intercept</th>                     <td>   18.6341</td> <td> 1.11e+04</td> <td>    0.002</td> <td> 0.999</td> <td>-2.18e+04  2.18e+04</td>\n",
       "</tr>\n",
       "<tr>\n",
       "  <th>city[T.Alpharetta]</th>            <td>    3.9680</td> <td> 3.84e+04</td> <td>    0.000</td> <td> 1.000</td> <td>-7.53e+04  7.53e+04</td>\n",
       "</tr>\n",
       "<tr>\n",
       "  <th>city[T.Atlanta]</th>               <td>  -18.9615</td> <td> 1.11e+04</td> <td>   -0.002</td> <td> 0.999</td> <td>-2.18e+04  2.18e+04</td>\n",
       "</tr>\n",
       "<tr>\n",
       "  <th>city[T.Aurora]</th>                <td>  -18.7223</td> <td> 1.11e+04</td> <td>   -0.002</td> <td> 0.999</td> <td>-2.18e+04  2.18e+04</td>\n",
       "</tr>\n",
       "<tr>\n",
       "  <th>city[T.Austin]</th>                <td>  -17.7919</td> <td> 1.11e+04</td> <td>   -0.002</td> <td> 0.999</td> <td>-2.18e+04  2.18e+04</td>\n",
       "</tr>\n",
       "<tr>\n",
       "  <th>city[T.Aventura]</th>              <td>    4.0278</td> <td> 4.85e+04</td> <td>  8.3e-05</td> <td> 1.000</td> <td>-9.51e+04  9.51e+04</td>\n",
       "</tr>\n",
       "<tr>\n",
       "  <th>city[T.Bellevue]</th>              <td>  -39.3276</td> <td> 3.31e+04</td> <td>   -0.001</td> <td> 0.999</td> <td>-6.49e+04  6.48e+04</td>\n",
       "</tr>\n",
       "<tr>\n",
       "  <th>city[T.Berkeley]</th>              <td>  -39.3276</td> <td> 3.31e+04</td> <td>   -0.001</td> <td> 0.999</td> <td>-6.49e+04  6.48e+04</td>\n",
       "</tr>\n",
       "<tr>\n",
       "  <th>city[T.Boulder]</th>               <td>  -18.6341</td> <td> 1.11e+04</td> <td>   -0.002</td> <td> 0.999</td> <td>-2.18e+04  2.18e+04</td>\n",
       "</tr>\n",
       "<tr>\n",
       "  <th>city[T.Brea]</th>                  <td>    1.7746</td> <td> 4.85e+04</td> <td> 3.66e-05</td> <td> 1.000</td> <td>-9.51e+04  9.51e+04</td>\n",
       "</tr>\n",
       "<tr>\n",
       "  <th>city[T.Brisbane]</th>              <td>  -38.9021</td> <td> 3.31e+04</td> <td>   -0.001</td> <td> 0.999</td> <td>-6.49e+04  6.48e+04</td>\n",
       "</tr>\n",
       "<tr>\n",
       "  <th>city[T.Canoga Park]</th>           <td>  -38.8618</td> <td> 3.31e+04</td> <td>   -0.001</td> <td> 0.999</td> <td>-6.49e+04  6.48e+04</td>\n",
       "</tr>\n",
       "<tr>\n",
       "  <th>city[T.Chicago]</th>               <td>  -19.4327</td> <td> 1.11e+04</td> <td>   -0.002</td> <td> 0.999</td> <td>-2.18e+04  2.18e+04</td>\n",
       "</tr>\n",
       "<tr>\n",
       "  <th>city[T.Coppell]</th>               <td>    2.8914</td> <td> 4.85e+04</td> <td> 5.96e-05</td> <td> 1.000</td> <td>-9.51e+04  9.51e+04</td>\n",
       "</tr>\n",
       "<tr>\n",
       "  <th>city[T.Coral Gables]</th>          <td>    2.2490</td> <td> 4.85e+04</td> <td> 4.64e-05</td> <td> 1.000</td> <td>-9.51e+04  9.51e+04</td>\n",
       "</tr>\n",
       "<tr>\n",
       "  <th>city[T.Dallas]</th>                <td>    2.4413</td> <td> 2.79e+04</td> <td> 8.76e-05</td> <td> 1.000</td> <td>-5.46e+04  5.47e+04</td>\n",
       "</tr>\n",
       "<tr>\n",
       "  <th>city[T.Dania Beach]</th>           <td>    2.8914</td> <td> 4.85e+04</td> <td> 5.96e-05</td> <td> 1.000</td> <td>-9.51e+04  9.51e+04</td>\n",
       "</tr>\n",
       "<tr>\n",
       "  <th>city[T.Denver]</th>                <td>  -18.5138</td> <td> 1.11e+04</td> <td>   -0.002</td> <td> 0.999</td> <td>-2.18e+04  2.18e+04</td>\n",
       "</tr>\n",
       "<tr>\n",
       "  <th>city[T.Downers Grove]</th>         <td>  -38.9986</td> <td> 3.31e+04</td> <td>   -0.001</td> <td> 0.999</td> <td>-6.49e+04  6.48e+04</td>\n",
       "</tr>\n",
       "<tr>\n",
       "  <th>city[T.Duarte]</th>                <td>    4.3375</td> <td> 4.85e+04</td> <td> 8.94e-05</td> <td> 1.000</td> <td>-9.51e+04  9.51e+04</td>\n",
       "</tr>\n",
       "<tr>\n",
       "  <th>city[T.El Segundo]</th>            <td>  -18.6341</td> <td> 1.11e+04</td> <td>   -0.002</td> <td> 0.999</td> <td>-2.18e+04  2.18e+04</td>\n",
       "</tr>\n",
       "<tr>\n",
       "  <th>city[T.Emeryville]</th>            <td>    3.3575</td> <td> 4.85e+04</td> <td> 6.92e-05</td> <td> 1.000</td> <td>-9.51e+04  9.51e+04</td>\n",
       "</tr>\n",
       "<tr>\n",
       "  <th>city[T.Englewood]</th>             <td>  -39.1661</td> <td> 3.31e+04</td> <td>   -0.001</td> <td> 0.999</td> <td>-6.49e+04  6.48e+04</td>\n",
       "</tr>\n",
       "<tr>\n",
       "  <th>city[T.Fort Lauderdale]</th>       <td>  -17.7780</td> <td> 1.11e+04</td> <td>   -0.002</td> <td> 0.999</td> <td>-2.18e+04  2.18e+04</td>\n",
       "</tr>\n",
       "<tr>\n",
       "  <th>city[T.Hinsdale]</th>              <td>    3.3575</td> <td> 4.85e+04</td> <td> 6.92e-05</td> <td> 1.000</td> <td>-9.51e+04  9.51e+04</td>\n",
       "</tr>\n",
       "<tr>\n",
       "  <th>city[T.Houston]</th>               <td>  -18.3252</td> <td> 1.11e+04</td> <td>   -0.002</td> <td> 0.999</td> <td>-2.18e+04  2.18e+04</td>\n",
       "</tr>\n",
       "<tr>\n",
       "  <th>city[T.Huntington Beach]</th>      <td>    2.8914</td> <td> 4.85e+04</td> <td> 5.96e-05</td> <td> 1.000</td> <td>-9.51e+04  9.51e+04</td>\n",
       "</tr>\n",
       "<tr>\n",
       "  <th>city[T.Irving]</th>                <td>  -18.3203</td> <td> 1.11e+04</td> <td>   -0.002</td> <td> 0.999</td> <td>-2.18e+04  2.18e+04</td>\n",
       "</tr>\n",
       "<tr>\n",
       "  <th>city[T.Kennesaw]</th>              <td>    3.0531</td> <td> 4.85e+04</td> <td> 6.29e-05</td> <td> 1.000</td> <td>-9.51e+04  9.51e+04</td>\n",
       "</tr>\n",
       "<tr>\n",
       "  <th>city[T.Los Angeles]</th>           <td>  -18.5264</td> <td> 1.11e+04</td> <td>   -0.002</td> <td> 0.999</td> <td>-2.18e+04  2.18e+04</td>\n",
       "</tr>\n",
       "<tr>\n",
       "  <th>city[T.Malvern]</th>               <td>  -38.8618</td> <td> 3.31e+04</td> <td>   -0.001</td> <td> 0.999</td> <td>-6.49e+04  6.48e+04</td>\n",
       "</tr>\n",
       "<tr>\n",
       "  <th>city[T.Manhattan]</th>             <td>  -19.3438</td> <td> 1.91e+12</td> <td>-1.01e-11</td> <td> 1.000</td> <td>-3.75e+12  3.75e+12</td>\n",
       "</tr>\n",
       "<tr>\n",
       "  <th>city[T.Miami]</th>                 <td>    2.3248</td> <td> 2.75e+04</td> <td> 8.45e-05</td> <td> 1.000</td> <td>-5.39e+04  5.39e+04</td>\n",
       "</tr>\n",
       "<tr>\n",
       "  <th>city[T.Miramar]</th>               <td>    2.4106</td> <td> 4.85e+04</td> <td> 4.97e-05</td> <td> 1.000</td> <td>-9.51e+04  9.51e+04</td>\n",
       "</tr>\n",
       "<tr>\n",
       "  <th>city[T.New York]</th>              <td>  -20.1017</td> <td> 1.11e+04</td> <td>   -0.002</td> <td> 0.999</td> <td>-2.18e+04  2.18e+04</td>\n",
       "</tr>\n",
       "<tr>\n",
       "  <th>city[T.Newtown Square]</th>        <td>    3.3575</td> <td> 4.85e+04</td> <td> 6.92e-05</td> <td> 1.000</td> <td>-9.51e+04  9.51e+04</td>\n",
       "</tr>\n",
       "<tr>\n",
       "  <th>city[T.Norcross]</th>              <td>    2.8914</td> <td> 4.85e+04</td> <td> 5.96e-05</td> <td> 1.000</td> <td>-9.51e+04  9.51e+04</td>\n",
       "</tr>\n",
       "<tr>\n",
       "  <th>city[T.North Wales]</th>           <td>  -39.3276</td> <td> 3.31e+04</td> <td>   -0.001</td> <td> 0.999</td> <td>-6.49e+04  6.48e+04</td>\n",
       "</tr>\n",
       "<tr>\n",
       "  <th>city[T.Northbrook]</th>            <td>  -18.5533</td> <td> 1.11e+04</td> <td>   -0.002</td> <td> 0.999</td> <td>-2.18e+04  2.18e+04</td>\n",
       "</tr>\n",
       "<tr>\n",
       "  <th>city[T.Pearland]</th>              <td>    2.8914</td> <td> 4.85e+04</td> <td> 5.96e-05</td> <td> 1.000</td> <td>-9.51e+04  9.51e+04</td>\n",
       "</tr>\n",
       "<tr>\n",
       "  <th>city[T.Philadelphia]</th>          <td>  -17.7356</td> <td> 1.11e+04</td> <td>   -0.002</td> <td> 0.999</td> <td>-2.18e+04  2.18e+04</td>\n",
       "</tr>\n",
       "<tr>\n",
       "  <th>city[T.Phoenix]</th>               <td>  -17.1889</td> <td> 1.11e+04</td> <td>   -0.002</td> <td> 0.999</td> <td>-2.18e+04  2.18e+04</td>\n",
       "</tr>\n",
       "<tr>\n",
       "  <th>city[T.Pittsburgh]</th>            <td>   16.7130</td> <td> 2.54e+07</td> <td> 6.59e-07</td> <td> 1.000</td> <td>-4.97e+07  4.97e+07</td>\n",
       "</tr>\n",
       "<tr>\n",
       "  <th>city[T.Plano]</th>                 <td>    2.8914</td> <td> 4.85e+04</td> <td> 5.96e-05</td> <td> 1.000</td> <td>-9.51e+04  9.51e+04</td>\n",
       "</tr>\n",
       "<tr>\n",
       "  <th>city[T.Portland]</th>              <td>    2.4413</td> <td> 2.79e+04</td> <td> 8.76e-05</td> <td> 1.000</td> <td>-5.46e+04  5.47e+04</td>\n",
       "</tr>\n",
       "<tr>\n",
       "  <th>city[T.Rahway]</th>                <td>  -38.8618</td> <td> 3.31e+04</td> <td>   -0.001</td> <td> 0.999</td> <td>-6.49e+04  6.48e+04</td>\n",
       "</tr>\n",
       "<tr>\n",
       "  <th>city[T.Redmond]</th>               <td>  -17.8127</td> <td> 1.11e+04</td> <td>   -0.002</td> <td> 0.999</td> <td>-2.18e+04  2.18e+04</td>\n",
       "</tr>\n",
       "<tr>\n",
       "  <th>city[T.Redwood City]</th>          <td>  -38.8617</td> <td> 3.31e+04</td> <td>   -0.001</td> <td> 0.999</td> <td>-6.49e+04  6.48e+04</td>\n",
       "</tr>\n",
       "<tr>\n",
       "  <th>city[T.San Bruno]</th>             <td>  -39.1661</td> <td> 3.31e+04</td> <td>   -0.001</td> <td> 0.999</td> <td>-6.49e+04  6.48e+04</td>\n",
       "</tr>\n",
       "<tr>\n",
       "  <th>city[T.San Francisco]</th>         <td>  -19.1033</td> <td> 1.11e+04</td> <td>   -0.002</td> <td> 0.999</td> <td>-2.18e+04  2.18e+04</td>\n",
       "</tr>\n",
       "<tr>\n",
       "  <th>city[T.Seattle]</th>               <td>  -18.0321</td> <td> 1.11e+04</td> <td>   -0.002</td> <td> 0.999</td> <td>-2.18e+04  2.18e+04</td>\n",
       "</tr>\n",
       "<tr>\n",
       "  <th>city[T.Smyrna]</th>                <td>    2.8914</td> <td> 4.85e+04</td> <td> 5.96e-05</td> <td> 1.000</td> <td>-9.51e+04  9.51e+04</td>\n",
       "</tr>\n",
       "<tr>\n",
       "  <th>city[T.South San Francisco]</th>   <td>  -38.8618</td> <td> 3.31e+04</td> <td>   -0.001</td> <td> 0.999</td> <td>-6.49e+04  6.48e+04</td>\n",
       "</tr>\n",
       "<tr>\n",
       "  <th>city[T.Spring House]</th>          <td>  -39.5039</td> <td> 3.31e+04</td> <td>   -0.001</td> <td> 0.999</td> <td>-6.49e+04  6.48e+04</td>\n",
       "</tr>\n",
       "<tr>\n",
       "  <th>city[T.Tempe]</th>                 <td>    2.4413</td> <td> 2.79e+04</td> <td> 8.76e-05</td> <td> 1.000</td> <td>-5.46e+04  5.47e+04</td>\n",
       "</tr>\n",
       "<tr>\n",
       "  <th>city[T.Township of Cranberry]</th> <td>    2.8914</td> <td> 4.85e+04</td> <td> 5.96e-05</td> <td> 1.000</td> <td>-9.51e+04  9.51e+04</td>\n",
       "</tr>\n",
       "<tr>\n",
       "  <th>city[T.West Chester]</th>          <td>  -38.8618</td> <td> 3.31e+04</td> <td>   -0.001</td> <td> 0.999</td> <td>-6.49e+04  6.48e+04</td>\n",
       "</tr>\n",
       "<tr>\n",
       "  <th>city[T.West Point]</th>            <td>  -39.8600</td> <td> 3.38e+04</td> <td>   -0.001</td> <td> 0.999</td> <td>-6.62e+04  6.61e+04</td>\n",
       "</tr>\n",
       "<tr>\n",
       "  <th>city[T.Westminster]</th>           <td>    2.8914</td> <td> 4.85e+04</td> <td> 5.96e-05</td> <td> 1.000</td> <td>-9.51e+04  9.51e+04</td>\n",
       "</tr>\n",
       "<tr>\n",
       "  <th>senior</th>                        <td>   -1.4461</td> <td>    0.739</td> <td>   -1.957</td> <td> 0.050</td> <td>   -2.894     0.002</td>\n",
       "</tr>\n",
       "<tr>\n",
       "  <th>manager</th>                       <td>    1.1169</td> <td>    0.988</td> <td>    1.130</td> <td> 0.258</td> <td>   -0.820     3.054</td>\n",
       "</tr>\n",
       "<tr>\n",
       "  <th>research</th>                      <td>    0.6424</td> <td>    0.625</td> <td>    1.027</td> <td> 0.304</td> <td>   -0.583     1.868</td>\n",
       "</tr>\n",
       "<tr>\n",
       "  <th>machine</th>                       <td>    0.0404</td> <td>    0.981</td> <td>    0.041</td> <td> 0.967</td> <td>   -1.882     1.963</td>\n",
       "</tr>\n",
       "<tr>\n",
       "  <th>python</th>                        <td>  -19.3438</td> <td> 1.91e+12</td> <td>-1.01e-11</td> <td> 1.000</td> <td>-3.75e+12  3.75e+12</td>\n",
       "</tr>\n",
       "<tr>\n",
       "  <th>developer</th>                     <td>   -1.1768</td> <td>    1.373</td> <td>   -0.857</td> <td> 0.391</td> <td>   -3.868     1.514</td>\n",
       "</tr>\n",
       "<tr>\n",
       "  <th>analyst</th>                       <td>   -0.1616</td> <td>    0.688</td> <td>   -0.235</td> <td> 0.814</td> <td>   -1.510     1.187</td>\n",
       "</tr>\n",
       "<tr>\n",
       "  <th>scientist</th>                     <td>   -0.4660</td> <td>    0.550</td> <td>   -0.847</td> <td> 0.397</td> <td>   -1.545     0.613</td>\n",
       "</tr>\n",
       "</table>"
      ],
      "text/plain": [
       "<class 'statsmodels.iolib.summary.Summary'>\n",
       "\"\"\"\n",
       "                           Logit Regression Results                           \n",
       "==============================================================================\n",
       "Dep. Variable:                is_high   No. Observations:                  169\n",
       "Model:                          Logit   Df Residuals:                      103\n",
       "Method:                           MLE   Df Model:                           65\n",
       "Date:                Sun, 30 Oct 2016   Pseudo R-squ.:                  0.4133\n",
       "Time:                        16:38:48   Log-Likelihood:                -68.729\n",
       "converged:                      False   LL-Null:                       -117.14\n",
       "                                        LLR p-value:                  0.006397\n",
       "=================================================================================================\n",
       "                                    coef    std err          z      P>|z|      [95.0% Conf. Int.]\n",
       "-------------------------------------------------------------------------------------------------\n",
       "Intercept                        18.6341   1.11e+04      0.002      0.999     -2.18e+04  2.18e+04\n",
       "city[T.Alpharetta]                3.9680   3.84e+04      0.000      1.000     -7.53e+04  7.53e+04\n",
       "city[T.Atlanta]                 -18.9615   1.11e+04     -0.002      0.999     -2.18e+04  2.18e+04\n",
       "city[T.Aurora]                  -18.7223   1.11e+04     -0.002      0.999     -2.18e+04  2.18e+04\n",
       "city[T.Austin]                  -17.7919   1.11e+04     -0.002      0.999     -2.18e+04  2.18e+04\n",
       "city[T.Aventura]                  4.0278   4.85e+04    8.3e-05      1.000     -9.51e+04  9.51e+04\n",
       "city[T.Bellevue]                -39.3276   3.31e+04     -0.001      0.999     -6.49e+04  6.48e+04\n",
       "city[T.Berkeley]                -39.3276   3.31e+04     -0.001      0.999     -6.49e+04  6.48e+04\n",
       "city[T.Boulder]                 -18.6341   1.11e+04     -0.002      0.999     -2.18e+04  2.18e+04\n",
       "city[T.Brea]                      1.7746   4.85e+04   3.66e-05      1.000     -9.51e+04  9.51e+04\n",
       "city[T.Brisbane]                -38.9021   3.31e+04     -0.001      0.999     -6.49e+04  6.48e+04\n",
       "city[T.Canoga Park]             -38.8618   3.31e+04     -0.001      0.999     -6.49e+04  6.48e+04\n",
       "city[T.Chicago]                 -19.4327   1.11e+04     -0.002      0.999     -2.18e+04  2.18e+04\n",
       "city[T.Coppell]                   2.8914   4.85e+04   5.96e-05      1.000     -9.51e+04  9.51e+04\n",
       "city[T.Coral Gables]              2.2490   4.85e+04   4.64e-05      1.000     -9.51e+04  9.51e+04\n",
       "city[T.Dallas]                    2.4413   2.79e+04   8.76e-05      1.000     -5.46e+04  5.47e+04\n",
       "city[T.Dania Beach]               2.8914   4.85e+04   5.96e-05      1.000     -9.51e+04  9.51e+04\n",
       "city[T.Denver]                  -18.5138   1.11e+04     -0.002      0.999     -2.18e+04  2.18e+04\n",
       "city[T.Downers Grove]           -38.9986   3.31e+04     -0.001      0.999     -6.49e+04  6.48e+04\n",
       "city[T.Duarte]                    4.3375   4.85e+04   8.94e-05      1.000     -9.51e+04  9.51e+04\n",
       "city[T.El Segundo]              -18.6341   1.11e+04     -0.002      0.999     -2.18e+04  2.18e+04\n",
       "city[T.Emeryville]                3.3575   4.85e+04   6.92e-05      1.000     -9.51e+04  9.51e+04\n",
       "city[T.Englewood]               -39.1661   3.31e+04     -0.001      0.999     -6.49e+04  6.48e+04\n",
       "city[T.Fort Lauderdale]         -17.7780   1.11e+04     -0.002      0.999     -2.18e+04  2.18e+04\n",
       "city[T.Hinsdale]                  3.3575   4.85e+04   6.92e-05      1.000     -9.51e+04  9.51e+04\n",
       "city[T.Houston]                 -18.3252   1.11e+04     -0.002      0.999     -2.18e+04  2.18e+04\n",
       "city[T.Huntington Beach]          2.8914   4.85e+04   5.96e-05      1.000     -9.51e+04  9.51e+04\n",
       "city[T.Irving]                  -18.3203   1.11e+04     -0.002      0.999     -2.18e+04  2.18e+04\n",
       "city[T.Kennesaw]                  3.0531   4.85e+04   6.29e-05      1.000     -9.51e+04  9.51e+04\n",
       "city[T.Los Angeles]             -18.5264   1.11e+04     -0.002      0.999     -2.18e+04  2.18e+04\n",
       "city[T.Malvern]                 -38.8618   3.31e+04     -0.001      0.999     -6.49e+04  6.48e+04\n",
       "city[T.Manhattan]               -19.3438   1.91e+12  -1.01e-11      1.000     -3.75e+12  3.75e+12\n",
       "city[T.Miami]                     2.3248   2.75e+04   8.45e-05      1.000     -5.39e+04  5.39e+04\n",
       "city[T.Miramar]                   2.4106   4.85e+04   4.97e-05      1.000     -9.51e+04  9.51e+04\n",
       "city[T.New York]                -20.1017   1.11e+04     -0.002      0.999     -2.18e+04  2.18e+04\n",
       "city[T.Newtown Square]            3.3575   4.85e+04   6.92e-05      1.000     -9.51e+04  9.51e+04\n",
       "city[T.Norcross]                  2.8914   4.85e+04   5.96e-05      1.000     -9.51e+04  9.51e+04\n",
       "city[T.North Wales]             -39.3276   3.31e+04     -0.001      0.999     -6.49e+04  6.48e+04\n",
       "city[T.Northbrook]              -18.5533   1.11e+04     -0.002      0.999     -2.18e+04  2.18e+04\n",
       "city[T.Pearland]                  2.8914   4.85e+04   5.96e-05      1.000     -9.51e+04  9.51e+04\n",
       "city[T.Philadelphia]            -17.7356   1.11e+04     -0.002      0.999     -2.18e+04  2.18e+04\n",
       "city[T.Phoenix]                 -17.1889   1.11e+04     -0.002      0.999     -2.18e+04  2.18e+04\n",
       "city[T.Pittsburgh]               16.7130   2.54e+07   6.59e-07      1.000     -4.97e+07  4.97e+07\n",
       "city[T.Plano]                     2.8914   4.85e+04   5.96e-05      1.000     -9.51e+04  9.51e+04\n",
       "city[T.Portland]                  2.4413   2.79e+04   8.76e-05      1.000     -5.46e+04  5.47e+04\n",
       "city[T.Rahway]                  -38.8618   3.31e+04     -0.001      0.999     -6.49e+04  6.48e+04\n",
       "city[T.Redmond]                 -17.8127   1.11e+04     -0.002      0.999     -2.18e+04  2.18e+04\n",
       "city[T.Redwood City]            -38.8617   3.31e+04     -0.001      0.999     -6.49e+04  6.48e+04\n",
       "city[T.San Bruno]               -39.1661   3.31e+04     -0.001      0.999     -6.49e+04  6.48e+04\n",
       "city[T.San Francisco]           -19.1033   1.11e+04     -0.002      0.999     -2.18e+04  2.18e+04\n",
       "city[T.Seattle]                 -18.0321   1.11e+04     -0.002      0.999     -2.18e+04  2.18e+04\n",
       "city[T.Smyrna]                    2.8914   4.85e+04   5.96e-05      1.000     -9.51e+04  9.51e+04\n",
       "city[T.South San Francisco]     -38.8618   3.31e+04     -0.001      0.999     -6.49e+04  6.48e+04\n",
       "city[T.Spring House]            -39.5039   3.31e+04     -0.001      0.999     -6.49e+04  6.48e+04\n",
       "city[T.Tempe]                     2.4413   2.79e+04   8.76e-05      1.000     -5.46e+04  5.47e+04\n",
       "city[T.Township of Cranberry]     2.8914   4.85e+04   5.96e-05      1.000     -9.51e+04  9.51e+04\n",
       "city[T.West Chester]            -38.8618   3.31e+04     -0.001      0.999     -6.49e+04  6.48e+04\n",
       "city[T.West Point]              -39.8600   3.38e+04     -0.001      0.999     -6.62e+04  6.61e+04\n",
       "city[T.Westminster]               2.8914   4.85e+04   5.96e-05      1.000     -9.51e+04  9.51e+04\n",
       "senior                           -1.4461      0.739     -1.957      0.050        -2.894     0.002\n",
       "manager                           1.1169      0.988      1.130      0.258        -0.820     3.054\n",
       "research                          0.6424      0.625      1.027      0.304        -0.583     1.868\n",
       "machine                           0.0404      0.981      0.041      0.967        -1.882     1.963\n",
       "python                          -19.3438   1.91e+12  -1.01e-11      1.000     -3.75e+12  3.75e+12\n",
       "developer                        -1.1768      1.373     -0.857      0.391        -3.868     1.514\n",
       "analyst                          -0.1616      0.688     -0.235      0.814        -1.510     1.187\n",
       "scientist                        -0.4660      0.550     -0.847      0.397        -1.545     0.613\n",
       "=================================================================================================\n",
       "\"\"\""
      ]
     },
     "execution_count": 854,
     "metadata": {},
     "output_type": "execute_result"
    }
   ],
   "source": [
    "model = sm.logit(\n",
    "    \"is_high ~ city + senior + manager + research + machine + python + developer + analyst + scientist\",\n",
    "    data = df\n",
    ").fit()\n",
    "\n",
    "model.summary()\n"
   ]
  },
  {
   "cell_type": "markdown",
   "metadata": {},
   "source": [
    "The new variables did appear to help to a certain extent, which can be seen in the higher pseudo R^2 score.  Also, the lower p-values for some of the new variables, together with their coefficients, indicate that they may be better predictor for salary.  This is particularly true for senior, developer, and scientist."
   ]
  },
  {
   "cell_type": "markdown",
   "metadata": {
    "focus": false,
    "id": "9c9274ef-c9f5-4d56-b286-ecc8709eff9f"
   },
   "source": [
    "#### Rebuild this model with scikit-learn.\n",
    "- You can either create the dummy features manually or use the `dmatrix` function from `patsy`\n",
    "- Remember to scale the feature variables as well!\n"
   ]
  },
  {
   "cell_type": "code",
   "execution_count": 855,
   "metadata": {
    "collapsed": false,
    "focus": false,
    "id": "b76f65cd-cd3a-4e91-af55-12880be7b057"
   },
   "outputs": [],
   "source": [
    "## YOUR CODE HERE\n",
    "import patsy\n",
    "from sklearn.metrics import classification_report, confusion_matrix, accuracy_score\n",
    "from sklearn.cross_validation import train_test_split\n",
    "from sklearn.linear_model import LogisticRegression, LogisticRegressionCV\n",
    "from sklearn.grid_search import GridSearchCV\n",
    "\n",
    "\n",
    "X = patsy.dmatrix('~ C(city) + C(manager) + C(senior) + C(research) + C(machine) + C(python) + C(developer) + C(analyst) + C(scientist)', df)\n",
    "y = df['highness']"
   ]
  },
  {
   "cell_type": "code",
   "execution_count": 856,
   "metadata": {
    "collapsed": false,
    "scrolled": true
   },
   "outputs": [
    {
     "name": "stdout",
     "output_type": "stream",
     "text": [
      "Fitting 5 folds for each of 24 candidates, totalling 120 fits\n"
     ]
    },
    {
     "name": "stderr",
     "output_type": "stream",
     "text": [
      "[Parallel(n_jobs=1)]: Done 120 out of 120 | elapsed:    1.0s finished\n"
     ]
    },
    {
     "data": {
      "text/plain": [
       "GridSearchCV(cv=5, error_score='raise',\n",
       "       estimator=LogisticRegression(C=1.0, class_weight=None, dual=False, fit_intercept=True,\n",
       "          intercept_scaling=1, max_iter=100, multi_class='ovr', n_jobs=1,\n",
       "          penalty='l2', random_state=None, solver='liblinear', tol=0.0001,\n",
       "          verbose=0, warm_start=False),\n",
       "       fit_params={}, iid=True, n_jobs=1,\n",
       "       param_grid={'penalty': ['l1', 'l2'], 'C': [0.0001, 0.001, 0.01, 0.1, 0.5, 0.75, 1.0, 2.5, 5.0, 10.0, 100.0, 1000.0]},\n",
       "       pre_dispatch='2*n_jobs', refit=True, scoring='f1_macro',\n",
       "       verbose=True)"
      ]
     },
     "execution_count": 856,
     "metadata": {},
     "output_type": "execute_result"
    }
   ],
   "source": [
    "logreg = LogisticRegression()\n",
    "C_vals = [0.0001, 0.001, 0.01, 0.1, 0.5, 0.75, 1.0, 2.5, 5.0, 10.0, 100.0, 1000.0]\n",
    "penalties = ['l1','l2']\n",
    "\n",
    "gs = GridSearchCV(logreg, {'penalty':penalties, 'C':C_vals}, verbose=True, cv=5, scoring='f1_macro')\n",
    "gs.fit(X, y)"
   ]
  },
  {
   "cell_type": "code",
   "execution_count": 857,
   "metadata": {
    "collapsed": false
   },
   "outputs": [
    {
     "data": {
      "text/plain": [
       "{'C': 1.0, 'penalty': 'l2'}"
      ]
     },
     "execution_count": 857,
     "metadata": {},
     "output_type": "execute_result"
    }
   ],
   "source": [
    "gs.best_params_"
   ]
  },
  {
   "cell_type": "code",
   "execution_count": 858,
   "metadata": {
    "collapsed": false
   },
   "outputs": [
    {
     "data": {
      "text/plain": [
       "LogisticRegression(C=1.0, class_weight=None, dual=False, fit_intercept=True,\n",
       "          intercept_scaling=1, max_iter=100, multi_class='ovr', n_jobs=1,\n",
       "          penalty='l2', random_state=None, solver='liblinear', tol=0.0001,\n",
       "          verbose=0, warm_start=False)"
      ]
     },
     "execution_count": 858,
     "metadata": {},
     "output_type": "execute_result"
    }
   ],
   "source": [
    "logreg = LogisticRegression(C=1.0, penalty='l2', solver='liblinear')\n",
    "logreg.fit(X, y)\n"
   ]
  },
  {
   "cell_type": "markdown",
   "metadata": {
    "focus": false,
    "id": "9367beff-72ba-4768-a0ba-a50b335de61d"
   },
   "source": [
    "#### Use cross-validation in scikit-learn to evaluate the model above. \n",
    "- Evaluate the accuracy, AUC, precision and recall of the model. \n",
    "- Discuss the differences and explain when you want a high-recall or a high-precision model in this scenario."
   ]
  },
  {
   "cell_type": "code",
   "execution_count": 859,
   "metadata": {
    "collapsed": false,
    "focus": false,
    "id": "269b9e7c-60b5-4a06-8255-881d7395bc1b"
   },
   "outputs": [
    {
     "data": {
      "text/plain": [
       "array([ 0.24137931,  0.21428571,  0.2       ])"
      ]
     },
     "execution_count": 859,
     "metadata": {},
     "output_type": "execute_result"
    }
   ],
   "source": [
    "## YOUR CODE HERE\n",
    "from sklearn.model_selection import cross_val_score\n",
    "cross_val_score(logreg, X, y)"
   ]
  },
  {
   "cell_type": "code",
   "execution_count": 860,
   "metadata": {
    "collapsed": false
   },
   "outputs": [
    {
     "name": "stdout",
     "output_type": "stream",
     "text": [
      "             precision    recall  f1-score   support\n",
      "\n",
      "       high       0.69      0.64      0.67        42\n",
      "        low       0.65      0.59      0.62        44\n",
      "  very_high       0.74      0.72      0.73        43\n",
      "   very_low       0.58      0.70      0.64        40\n",
      "\n",
      "avg / total       0.67      0.66      0.66       169\n",
      "\n",
      "              pred_very_low  pred_low  pred_high  pred_very_high\n",
      "is_very_low              27         5          3               7\n",
      "is_low                    4        26          6               8\n",
      "is_high                   2         5         31               5\n",
      "is_very_high              6         4          2              28\n"
     ]
    }
   ],
   "source": [
    "y_pred = logreg.predict(X)\n",
    "print(classification_report(y, y_pred))\n",
    "print pd.DataFrame(confusion_matrix(y, y_pred), index=['is_very_low','is_low', 'is_high', 'is_very_high'],\n",
    "                   columns=['pred_very_low','pred_low', 'pred_high', 'pred_very_high'])\n"
   ]
  },
  {
   "cell_type": "code",
   "execution_count": 861,
   "metadata": {
    "collapsed": false,
    "scrolled": true
   },
   "outputs": [
    {
     "name": "stdout",
     "output_type": "stream",
     "text": [
      "coefficients: [[ -5.25684482e-01  -3.83787316e-01   4.27261873e-01   3.91867510e-01\n",
      "    1.81174527e-01  -1.00797502e-01  -2.19157848e-01   6.08848742e-01\n",
      "    3.40972552e-01  -1.37485589e-01  -1.00614814e-01   6.09558934e-01\n",
      "    1.18529770e+00  -2.19157848e-01  -1.72421771e-01  -3.36010181e-01\n",
      "   -2.19157848e-01   8.89927730e-01  -1.43522358e-01  -2.27436709e-01\n",
      "   -3.84404718e-01  -2.18622322e-01   6.93712707e-01   1.40369745e-01\n",
      "   -2.18622322e-01   3.81295096e-01  -2.19157848e-01   4.07465017e-01\n",
      "   -1.58446145e-01   9.66498604e-01   6.09558934e-01  -9.33845107e-02\n",
      "   -3.84404718e-01  -1.21571146e-01  -3.43278602e-01  -2.18622322e-01\n",
      "   -2.19157848e-01   6.08848742e-01  -3.36010181e-01  -2.19157848e-01\n",
      "    2.81390265e-01  -5.27244857e-01  -5.16874398e-01  -2.19157848e-01\n",
      "   -3.36010181e-01  -2.18622322e-01  -3.83787316e-01  -2.18622322e-01\n",
      "   -1.58446145e-01  -2.65820380e-01  -3.18992199e-01  -2.19157848e-01\n",
      "   -2.18622322e-01  -1.71964711e-01  -3.36010181e-01  -2.19157848e-01\n",
      "    6.09558934e-01   3.41543393e-01  -2.19157848e-01  -6.47464677e-01\n",
      "    5.59625621e-02  -3.44691991e-01  -1.03494637e+00  -9.33845107e-02\n",
      "   -1.48241985e-03  -4.60028767e-01  -3.71795868e-03]\n",
      " [ -4.21687770e-01   9.68947526e-01   2.88082645e-01  -4.59528451e-01\n",
      "    6.11777261e-01   3.81848380e-01  -2.50807993e-01  -2.50807993e-01\n",
      "   -4.35483957e-01   5.65637111e-01  -2.62901239e-01  -1.79798237e-01\n",
      "   -8.03710860e-01   5.68318547e-01  -3.43062211e-01   2.97742193e-01\n",
      "   -2.50807993e-01   2.15918156e-01  -1.48068850e-01  -1.46542112e-01\n",
      "   -4.35483957e-01  -1.79798237e-01  -2.29480481e-01  -5.35532369e-01\n",
      "    6.62612818e-01   6.65448823e-01  -2.50807993e-01  -3.61541357e-01\n",
      "    5.95367818e-01  -3.70661773e-01  -1.79798237e-01  -2.96136095e-01\n",
      "    2.76219317e-01  -3.18014698e-01  -7.34234714e-01   6.62612818e-01\n",
      "    5.68318547e-01  -2.50807993e-01  -4.18451943e-01   5.68318547e-01\n",
      "    1.63131927e-01   3.02006135e-02  -5.35532369e-01   5.68318547e-01\n",
      "    2.97742193e-01  -1.79798237e-01  -4.33662740e-01  -1.79798237e-01\n",
      "   -2.29480481e-01   2.17137042e-01  -1.09800390e-02  -2.50807993e-01\n",
      "   -1.79798237e-01  -2.57575665e-01   2.97742193e-01   5.68318547e-01\n",
      "   -1.79798237e-01  -3.79619935e-01  -2.50807993e-01   1.34877075e-02\n",
      "   -7.71850721e-01   5.36935118e-01   5.69881155e-01  -2.96136095e-01\n",
      "    3.73213188e-01  -1.38336233e-01  -4.94282124e-01]\n",
      " [ -9.41787795e-01  -3.30863278e-01  -5.22007874e-03  -3.06596880e-01\n",
      "   -3.78850386e-01  -2.98775009e-01   7.55385270e-01  -1.18926804e-01\n",
      "   -2.17909495e-01  -1.19648006e-01   4.07140251e-01  -2.19503415e-01\n",
      "   -2.40971705e-01  -1.18926804e-01  -1.19953477e-01  -2.82627608e-01\n",
      "   -1.18926804e-01  -6.35525449e-01   5.61119911e-01  -2.55397780e-01\n",
      "    5.74668905e-01  -2.19503415e-01  -1.93312617e-01  -3.81239110e-01\n",
      "   -2.19503415e-01  -3.14116906e-01  -1.18926804e-01  -3.63913792e-01\n",
      "   -1.93312617e-01  -9.84541369e-01  -2.19503415e-01   4.77674109e-01\n",
      "   -2.17909495e-01  -1.94779226e-01   1.63065617e+00  -2.19503415e-01\n",
      "   -1.18926804e-01  -1.18926804e-01   4.82211103e-01  -1.18926804e-01\n",
      "   -7.41460520e-01  -6.49929826e-02  -3.81239110e-01  -1.18926804e-01\n",
      "   -2.82627608e-01   6.08372471e-01   4.14370876e-01   6.08372471e-01\n",
      "    6.43661954e-01   8.54934103e-01  -8.15658336e-02  -1.18926804e-01\n",
      "    6.08372471e-01   6.06276843e-01  -2.82627608e-01  -1.18926804e-01\n",
      "   -2.19503415e-01   4.52085274e-01  -1.18926804e-01   7.47981811e-03\n",
      "    1.06905804e+00   1.08296476e-02   1.01755853e+00   4.77674109e-01\n",
      "    3.12061313e-01   6.48509725e-01   8.34588696e-01]\n",
      " [ -3.72982200e-01  -3.06008535e-01  -7.43626345e-01   3.61085726e-01\n",
      "   -5.63518953e-01  -6.44667336e-02  -2.66502314e-01  -2.66502314e-01\n",
      "    2.45246657e-01  -3.47930149e-01  -9.07980993e-02  -1.95374571e-01\n",
      "   -2.67443201e-01  -2.66502314e-01   6.02480260e-01   2.63868269e-01\n",
      "    5.49060614e-01  -4.41060575e-01  -2.32040255e-01   6.79409897e-01\n",
      "    2.45246657e-01   6.40878258e-01  -2.47613574e-01   6.71213007e-01\n",
      "   -1.95374571e-01  -7.87128012e-01   5.49060614e-01   3.36432881e-01\n",
      "   -2.47613574e-01   2.17202225e-01  -1.95374571e-01  -1.21170019e-01\n",
      "    2.45246657e-01   6.25053046e-01  -1.13740825e+00  -1.95374571e-01\n",
      "   -2.66502314e-01  -2.66502314e-01   2.63868269e-01  -2.66502314e-01\n",
      "    1.38113226e-01   5.42934774e-01   1.24748887e+00  -2.66502314e-01\n",
      "    2.63868269e-01  -1.95374571e-01   4.47339304e-01  -1.95374571e-01\n",
      "   -2.47613574e-01  -8.45211085e-01   4.02757433e-01   5.49060614e-01\n",
      "   -1.95374571e-01  -1.60689099e-01   2.63868269e-01  -2.66502314e-01\n",
      "   -1.95374571e-01  -4.04867333e-01   5.49060614e-01   4.65746679e-01\n",
      "   -6.84544093e-01  -2.72359329e-01  -9.93101453e-01  -1.21170019e-01\n",
      "   -8.71818934e-01  -1.17787088e-01  -4.74092576e-01]]\n"
     ]
    }
   ],
   "source": [
    "print 'coefficients:', logreg.coef_"
   ]
  },
  {
   "cell_type": "markdown",
   "metadata": {},
   "source": [
    "# Evaluate the accuracy, AUC, precision and recall of the model.\n",
    "# Discuss the differences and explain when you want a high-recall or a high-precision model in this scenario.\n",
    "\n"
   ]
  },
  {
   "cell_type": "markdown",
   "metadata": {},
   "source": [
    "Firstly, I could not figure out how to create an AUC-ROC curve and get the score of a multiclass regression.  Everything I found in the documentation stated that it is meant for binarized response variables and got overly complicated when it came to multiclass response variables.  Given more time, I would like to figure this out.  I'm turning this in as is, but would like to revisit it when my wife is not visiting and I can have more time to play with it.\n",
    "\n",
    "Overall, I would say that the accuracy, precision, and recall of my model are pretty good.  Recall is the number of positive predictions divided by the number of true positive values in the class.  A high recall rate in this scenario would be useful in a situation where you you are not worried about making an incorrect prediction but want to make sure that you catch all positives.  This could matter when you are mostly worried about getting everyone a high salary that deserves it at the expense of giving people who don't deserve it high salaries as well.  Precision is the number of predicted positives divided by the number of true and false positives.  A high precision model in the this scenario would be useful for when you want to keep the number of false positives at a minimum.  This could mean that you wouldn't make a bad prediction and give someone too high of a salary."
   ]
  },
  {
   "cell_type": "markdown",
   "metadata": {
    "focus": false,
    "id": "8c22664b-92e4-4fc2-b7ac-fbac865845d3"
   },
   "source": [
    "#### Compare L1 and L2 regularization for this logistic regression model. What effect does this have on the coefficients learned?"
   ]
  },
  {
   "cell_type": "code",
   "execution_count": 865,
   "metadata": {
    "collapsed": false,
    "focus": false,
    "id": "172fd952-5012-4630-81f4-1206da6eb820",
    "scrolled": true
   },
   "outputs": [
    {
     "name": "stdout",
     "output_type": "stream",
     "text": [
      "coefficients: [[-0.98937529  0.          0.          0.          0.          0.          0.\n",
      "   0.          0.          0.          0.          0.          1.20684745\n",
      "   0.          0.          0.          0.          0.73615163  0.          0.\n",
      "   0.          0.          0.          0.          0.          0.          0.\n",
      "   0.          0.          0.93244866  0.          0.          0.          0.\n",
      "  -0.12419087  0.          0.          0.          0.          0.          0.\n",
      "   0.          0.          0.          0.          0.          0.          0.\n",
      "   0.          0.          0.          0.          0.          0.          0.\n",
      "   0.          0.          0.          0.         -0.42475248  0.\n",
      "  -0.21292336 -1.1077494   0.          0.         -0.39754342  0.        ]\n",
      " [-0.79929861  1.04096929  0.          0.          0.44028763  0.          0.\n",
      "   0.          0.          0.          0.          0.         -0.6666716\n",
      "   0.          0.          0.          0.          0.          0.          0.\n",
      "   0.          0.          0.          0.          0.          0.37306983\n",
      "   0.          0.          0.          0.          0.          0.          0.\n",
      "   0.         -0.62106861  0.          0.          0.          0.          0.\n",
      "   0.          0.          0.          0.          0.          0.          0.\n",
      "   0.          0.          0.          0.          0.          0.          0.\n",
      "   0.          0.          0.          0.          0.          0.\n",
      "  -0.58033187  0.22348355  0.33313647  0.          0.          0.\n",
      "  -0.48334127]\n",
      " [-1.10037235  0.          0.          0.          0.          0.          0.\n",
      "   0.          0.          0.          0.          0.          0.          0.\n",
      "   0.          0.          0.          0.          0.          0.          0.\n",
      "   0.          0.          0.          0.          0.          0.          0.\n",
      "   0.         -0.789675    0.          0.          0.          0.\n",
      "   1.93865839  0.          0.          0.          0.          0.\n",
      "  -0.2425177   0.          0.          0.          0.          0.          0.\n",
      "   0.          0.          0.81965068  0.          0.          0.          0.\n",
      "   0.          0.          0.          0.          0.          0.\n",
      "   0.94882906  0.          1.12161562  0.          0.          0.44320397\n",
      "   0.78300785]\n",
      " [ 0.          0.         -0.51200915  0.         -0.33341194  0.          0.\n",
      "   0.          0.          0.          0.          0.         -0.11866459\n",
      "   0.          0.          0.          0.          0.          0.          0.\n",
      "   0.          0.          0.          0.1367237   0.         -0.56766972\n",
      "   0.          0.          0.          0.          0.          0.          0.\n",
      "   0.         -1.34800702  0.          0.          0.          0.          0.\n",
      "   0.          0.          1.53307953  0.          0.          0.          0.\n",
      "   0.          0.         -0.7242059   0.11474755  0.          0.          0.\n",
      "   0.          0.          0.          0.          0.          0.19707227\n",
      "  -0.72571688 -0.11498044 -1.00269329  0.         -0.68183496  0.\n",
      "  -0.36875547]]\n",
      "             precision    recall  f1-score   support\n",
      "\n",
      "       high       0.60      0.36      0.45        42\n",
      "        low       0.45      0.39      0.41        44\n",
      "  very_high       0.61      0.51      0.56        43\n",
      "   very_low       0.41      0.72      0.53        40\n",
      "\n",
      "avg / total       0.52      0.49      0.49       169\n",
      "\n",
      "              pred_very_low  pred_low  pred_high  pred_very_high\n",
      "is_very_low              15         8          5              14\n",
      "is_low                    3        17          7              17\n",
      "is_high                   4         7         22              10\n",
      "is_very_high              3         6          2              29\n"
     ]
    }
   ],
   "source": [
    "## YOUR CODE HERE\n",
    "logreg = LogisticRegression(C=1.0, penalty='l1', solver='liblinear')\n",
    "logreg.fit(X, y)\n",
    "y_pred = logreg.predict(X)\n",
    "print 'coefficients:', logreg.coef_\n",
    "print(classification_report(y, y_pred))\n",
    "print pd.DataFrame(confusion_matrix(y, y_pred), index=['is_very_low','is_low', 'is_high', 'is_very_high'],\n",
    "                   columns=['pred_very_low','pred_low', 'pred_high', 'pred_very_high'])\n"
   ]
  },
  {
   "cell_type": "code",
   "execution_count": 866,
   "metadata": {
    "collapsed": false,
    "focus": false,
    "id": "56cc8854-d722-411d-a6c7-e86310710f67",
    "scrolled": true
   },
   "outputs": [
    {
     "name": "stdout",
     "output_type": "stream",
     "text": [
      "coeficients: [[ -5.25684482e-01  -3.83787316e-01   4.27261873e-01   3.91867510e-01\n",
      "    1.81174527e-01  -1.00797502e-01  -2.19157848e-01   6.08848742e-01\n",
      "    3.40972552e-01  -1.37485589e-01  -1.00614814e-01   6.09558934e-01\n",
      "    1.18529770e+00  -2.19157848e-01  -1.72421771e-01  -3.36010181e-01\n",
      "   -2.19157848e-01   8.89927730e-01  -1.43522358e-01  -2.27436709e-01\n",
      "   -3.84404718e-01  -2.18622322e-01   6.93712707e-01   1.40369745e-01\n",
      "   -2.18622322e-01   3.81295096e-01  -2.19157848e-01   4.07465017e-01\n",
      "   -1.58446145e-01   9.66498604e-01   6.09558934e-01  -9.33845107e-02\n",
      "   -3.84404718e-01  -1.21571146e-01  -3.43278602e-01  -2.18622322e-01\n",
      "   -2.19157848e-01   6.08848742e-01  -3.36010181e-01  -2.19157848e-01\n",
      "    2.81390265e-01  -5.27244857e-01  -5.16874398e-01  -2.19157848e-01\n",
      "   -3.36010181e-01  -2.18622322e-01  -3.83787316e-01  -2.18622322e-01\n",
      "   -1.58446145e-01  -2.65820380e-01  -3.18992199e-01  -2.19157848e-01\n",
      "   -2.18622322e-01  -1.71964711e-01  -3.36010181e-01  -2.19157848e-01\n",
      "    6.09558934e-01   3.41543393e-01  -2.19157848e-01  -6.47464677e-01\n",
      "    5.59625621e-02  -3.44691991e-01  -1.03494637e+00  -9.33845107e-02\n",
      "   -1.48241985e-03  -4.60028767e-01  -3.71795868e-03]\n",
      " [ -4.21687770e-01   9.68947526e-01   2.88082645e-01  -4.59528451e-01\n",
      "    6.11777261e-01   3.81848380e-01  -2.50807993e-01  -2.50807993e-01\n",
      "   -4.35483957e-01   5.65637111e-01  -2.62901239e-01  -1.79798237e-01\n",
      "   -8.03710860e-01   5.68318547e-01  -3.43062211e-01   2.97742193e-01\n",
      "   -2.50807993e-01   2.15918156e-01  -1.48068850e-01  -1.46542112e-01\n",
      "   -4.35483957e-01  -1.79798237e-01  -2.29480481e-01  -5.35532369e-01\n",
      "    6.62612818e-01   6.65448823e-01  -2.50807993e-01  -3.61541357e-01\n",
      "    5.95367818e-01  -3.70661773e-01  -1.79798237e-01  -2.96136095e-01\n",
      "    2.76219317e-01  -3.18014698e-01  -7.34234714e-01   6.62612818e-01\n",
      "    5.68318547e-01  -2.50807993e-01  -4.18451943e-01   5.68318547e-01\n",
      "    1.63131927e-01   3.02006135e-02  -5.35532369e-01   5.68318547e-01\n",
      "    2.97742193e-01  -1.79798237e-01  -4.33662740e-01  -1.79798237e-01\n",
      "   -2.29480481e-01   2.17137042e-01  -1.09800390e-02  -2.50807993e-01\n",
      "   -1.79798237e-01  -2.57575665e-01   2.97742193e-01   5.68318547e-01\n",
      "   -1.79798237e-01  -3.79619935e-01  -2.50807993e-01   1.34877075e-02\n",
      "   -7.71850721e-01   5.36935118e-01   5.69881155e-01  -2.96136095e-01\n",
      "    3.73213188e-01  -1.38336233e-01  -4.94282124e-01]\n",
      " [ -9.41787795e-01  -3.30863278e-01  -5.22007874e-03  -3.06596880e-01\n",
      "   -3.78850386e-01  -2.98775009e-01   7.55385270e-01  -1.18926804e-01\n",
      "   -2.17909495e-01  -1.19648006e-01   4.07140251e-01  -2.19503415e-01\n",
      "   -2.40971705e-01  -1.18926804e-01  -1.19953477e-01  -2.82627608e-01\n",
      "   -1.18926804e-01  -6.35525449e-01   5.61119911e-01  -2.55397780e-01\n",
      "    5.74668905e-01  -2.19503415e-01  -1.93312617e-01  -3.81239110e-01\n",
      "   -2.19503415e-01  -3.14116906e-01  -1.18926804e-01  -3.63913792e-01\n",
      "   -1.93312617e-01  -9.84541369e-01  -2.19503415e-01   4.77674109e-01\n",
      "   -2.17909495e-01  -1.94779226e-01   1.63065617e+00  -2.19503415e-01\n",
      "   -1.18926804e-01  -1.18926804e-01   4.82211103e-01  -1.18926804e-01\n",
      "   -7.41460520e-01  -6.49929826e-02  -3.81239110e-01  -1.18926804e-01\n",
      "   -2.82627608e-01   6.08372471e-01   4.14370876e-01   6.08372471e-01\n",
      "    6.43661954e-01   8.54934103e-01  -8.15658336e-02  -1.18926804e-01\n",
      "    6.08372471e-01   6.06276843e-01  -2.82627608e-01  -1.18926804e-01\n",
      "   -2.19503415e-01   4.52085274e-01  -1.18926804e-01   7.47981811e-03\n",
      "    1.06905804e+00   1.08296476e-02   1.01755853e+00   4.77674109e-01\n",
      "    3.12061313e-01   6.48509725e-01   8.34588696e-01]\n",
      " [ -3.72982200e-01  -3.06008535e-01  -7.43626345e-01   3.61085726e-01\n",
      "   -5.63518953e-01  -6.44667336e-02  -2.66502314e-01  -2.66502314e-01\n",
      "    2.45246657e-01  -3.47930149e-01  -9.07980993e-02  -1.95374571e-01\n",
      "   -2.67443201e-01  -2.66502314e-01   6.02480260e-01   2.63868269e-01\n",
      "    5.49060614e-01  -4.41060575e-01  -2.32040255e-01   6.79409897e-01\n",
      "    2.45246657e-01   6.40878258e-01  -2.47613574e-01   6.71213007e-01\n",
      "   -1.95374571e-01  -7.87128012e-01   5.49060614e-01   3.36432881e-01\n",
      "   -2.47613574e-01   2.17202225e-01  -1.95374571e-01  -1.21170019e-01\n",
      "    2.45246657e-01   6.25053046e-01  -1.13740825e+00  -1.95374571e-01\n",
      "   -2.66502314e-01  -2.66502314e-01   2.63868269e-01  -2.66502314e-01\n",
      "    1.38113226e-01   5.42934774e-01   1.24748887e+00  -2.66502314e-01\n",
      "    2.63868269e-01  -1.95374571e-01   4.47339304e-01  -1.95374571e-01\n",
      "   -2.47613574e-01  -8.45211085e-01   4.02757433e-01   5.49060614e-01\n",
      "   -1.95374571e-01  -1.60689099e-01   2.63868269e-01  -2.66502314e-01\n",
      "   -1.95374571e-01  -4.04867333e-01   5.49060614e-01   4.65746679e-01\n",
      "   -6.84544093e-01  -2.72359329e-01  -9.93101453e-01  -1.21170019e-01\n",
      "   -8.71818934e-01  -1.17787088e-01  -4.74092576e-01]]\n",
      "             precision    recall  f1-score   support\n",
      "\n",
      "       high       0.69      0.64      0.67        42\n",
      "        low       0.65      0.59      0.62        44\n",
      "  very_high       0.74      0.72      0.73        43\n",
      "   very_low       0.58      0.70      0.64        40\n",
      "\n",
      "avg / total       0.67      0.66      0.66       169\n",
      "\n",
      "              pred_very_low  pred_low  pred_high  pred_very_high\n",
      "is_very_low              27         5          3               7\n",
      "is_low                    4        26          6               8\n",
      "is_high                   2         5         31               5\n",
      "is_very_high              6         4          2              28\n"
     ]
    }
   ],
   "source": [
    "## YOUR CODE HERE\n",
    "logreg = LogisticRegression(C=1.0, penalty='l2', solver='liblinear')\n",
    "logreg.fit(X, y)\n",
    "y_pred = logreg.predict(X)\n",
    "print 'coeficients:', logreg.coef_\n",
    "print(classification_report(y, y_pred))\n",
    "print pd.DataFrame(confusion_matrix(y, y_pred), index=['is_very_low','is_low', 'is_high', 'is_very_high'],\n",
    "                   columns=['pred_very_low','pred_low', 'pred_high', 'pred_very_high'])\n"
   ]
  },
  {
   "cell_type": "markdown",
   "metadata": {},
   "source": [
    "L2 regularization outperformed L1 regularization.  This can be seen in the precision, recall, and f1-score results for each model.  L1 regularization brought many of the coefficients down to 0, effectively saying that those variables have no value as a predictor variable.  L2 regularization just brought the coefficients down to very small numbers, reducing their effect on the model, but not taking them out completely."
   ]
  },
  {
   "cell_type": "markdown",
   "metadata": {
    "focus": false,
    "id": "fead9b5b-7316-405d-87fd-e144dff0cbeb"
   },
   "source": [
    "#### Continue to incorporate other text features from the title or summary that you believe will predict the salary and examine their coefficients"
   ]
  },
  {
   "cell_type": "markdown",
   "metadata": {
    "focus": false,
    "id": "12d5edeb-a272-43a0-9977-d951f12fedfb"
   },
   "source": [
    "#### Take ~100 scraped entries with salaries. Convert them to use with your model and predict the salary - which entries have the highest predicted salaries?"
   ]
  },
  {
   "cell_type": "code",
   "execution_count": 867,
   "metadata": {
    "collapsed": false
   },
   "outputs": [
    {
     "name": "stdout",
     "output_type": "stream",
     "text": [
      "Top 10 highest paying jobs \n",
      "                                                   job    salary\n",
      "325  Scientist or Sr. Scientist Formulation Filling...  250000.0\n",
      "44   Data Architect for Big Data Systems (VP) - Int...  212500.0\n",
      "16   Senior Systematic Quantitative Analyst - Multi...  200000.0\n",
      "10         Quantitative Researcher in Machine Learning  192500.0\n",
      "3                                       Data Scientist  187200.0\n",
      "61                        Senior Research Data Analyst  180000.0\n",
      "73                 Senior Credit REIT Research Analyst  180000.0\n",
      "8           Data Scientist / Lead Quantitative Analyst  175000.0\n",
      "100                                     Data Scientist  160000.0\n",
      "114                                     Data Scientist  160000.0\n"
     ]
    }
   ],
   "source": [
    "df['predicted'] = y_pred\n",
    "very_high_jobs = df.ix[df['predicted'] == 'very_high'][['job','salary']]\n",
    "print 'Top 10 highest paying jobs', '\\n', very_high_jobs.sort_values('salary', ascending=False)[:10]\n",
    "df.to_csv('Sals_w_Preds')"
   ]
  },
  {
   "cell_type": "markdown",
   "metadata": {},
   "source": [
    "This is my report!  \n",
    "https://docs.google.com/document/d/1FmT08kqMBDGWDAc_lqF29ZIODKy4_1EAPEOZ8i8lf80/pub\n"
   ]
  },
  {
   "cell_type": "markdown",
   "metadata": {},
   "source": [
    "This is my presentation!  \n",
    "https://docs.google.com/presentation/d/1aZyuqP-XDjQhHDPF4h4if2Qxbo1b2Jw3stRulctEFgo/pub?start=false&loop=false&delayms=60000"
   ]
  },
  {
   "cell_type": "markdown",
   "metadata": {
    "focus": false,
    "id": "3be94357-e551-4094-b784-2df039216d33"
   },
   "source": [
    "### BONUS "
   ]
  },
  {
   "cell_type": "markdown",
   "metadata": {
    "focus": false,
    "id": "db045898-1d2d-4af2-8e79-437c4c7546b4"
   },
   "source": [
    "#### Bonus: Use Count Vectorizer from scikit-learn to create features from the text summaries. \n",
    "- Examine using count or binary features in the model\n",
    "- Re-evaluate the logistic regression model using these. Does this improve the model performance? \n",
    "- What text features are the most valuable? "
   ]
  },
  {
   "cell_type": "code",
   "execution_count": 23,
   "metadata": {
    "collapsed": false,
    "focus": false,
    "id": "4239e458-28bd-4675-8db3-c1d9c02b9854"
   },
   "outputs": [],
   "source": [
    "## YOUR CODE HERE"
   ]
  },
  {
   "cell_type": "code",
   "execution_count": 24,
   "metadata": {
    "collapsed": false,
    "focus": false,
    "id": "fec80936-37bc-4922-89bd-b5d615566c9c"
   },
   "outputs": [],
   "source": [
    "## YOUR CODE HERE"
   ]
  },
  {
   "cell_type": "markdown",
   "metadata": {
    "focus": false,
    "id": "d42b9fd8-39d5-416a-b40b-7410e6396c11"
   },
   "source": [
    "#### Re-test L1 and L2 regularization. You can use LogisticRegressionCV to find the optimal reguarlization parameters. \n",
    "- Re-test what text features are most valuable.  \n",
    "- How do L1 and L2 change the coefficients?"
   ]
  },
  {
   "cell_type": "code",
   "execution_count": 25,
   "metadata": {
    "collapsed": false,
    "focus": false,
    "id": "7570e237-c8cc-4e26-b569-7aee10627e79"
   },
   "outputs": [],
   "source": [
    "## YOUR CODE HERE"
   ]
  },
  {
   "cell_type": "code",
   "execution_count": null,
   "metadata": {
    "collapsed": true,
    "focus": false,
    "id": "e3a0c83d-e3b8-4bed-b864-7e795b34a3d4"
   },
   "outputs": [],
   "source": []
  }
 ],
 "metadata": {
  "anaconda-cloud": {},
  "kernelspec": {
   "display_name": "Python [Root]",
   "language": "python",
   "name": "Python [Root]"
  },
  "language_info": {
   "codemirror_mode": {
    "name": "ipython",
    "version": 2
   },
   "file_extension": ".py",
   "mimetype": "text/x-python",
   "name": "python",
   "nbconvert_exporter": "python",
   "pygments_lexer": "ipython2",
   "version": "2.7.12"
  }
 },
 "nbformat": 4,
 "nbformat_minor": 0
}
